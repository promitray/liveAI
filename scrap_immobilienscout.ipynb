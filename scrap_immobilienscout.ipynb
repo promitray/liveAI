{
 "cells": [
  {
   "cell_type": "code",
   "execution_count": 1,
   "metadata": {},
   "outputs": [],
   "source": [
    "import urllib.request\n",
    "import scrapy\n",
    "from scrapy.crawler import CrawlerProcess\n",
    "from scrapy import Selector\n",
    "import selenium\n",
    "from selenium import webdriver\n",
    "import chromedriver_binary\n",
    "from webdriver_manager.chrome import ChromeDriverManager\n",
    "from selenium.webdriver.chrome.options import Options\n",
    "import pandas as pd\n",
    "import json\n",
    "import re\n",
    "import numpy as np"
   ]
  },
  {
   "cell_type": "code",
   "execution_count": 2,
   "metadata": {
    "scrolled": true
   },
   "outputs": [
    {
     "name": "stderr",
     "output_type": "stream",
     "text": [
      "2020-07-18 12:58:54 [scrapy.utils.log] INFO: Scrapy 2.2.0 started (bot: scrapybot)\n",
      "2020-07-18 12:58:54 [scrapy.utils.log] INFO: Versions: lxml 4.5.2.0, libxml2 2.9.10, cssselect 1.1.0, parsel 1.6.0, w3lib 1.22.0, Twisted 20.3.0, Python 3.6.9 (default, Apr 18 2020, 01:56:04) - [GCC 8.4.0], pyOpenSSL 19.1.0 (OpenSSL 1.1.1g  21 Apr 2020), cryptography 2.9.2, Platform Linux-5.3.0-62-generic-x86_64-with-Ubuntu-18.04-bionic\n",
      "2020-07-18 12:58:54 [scrapy.utils.log] DEBUG: Using reactor: twisted.internet.epollreactor.EPollReactor\n",
      "2020-07-18 12:58:54 [scrapy.crawler] INFO: Overridden settings:\n",
      "{}\n",
      "2020-07-18 12:58:54 [scrapy.extensions.telnet] INFO: Telnet Password: 12920a27eb0118ba\n",
      "2020-07-18 12:58:54 [scrapy.middleware] INFO: Enabled extensions:\n",
      "['scrapy.extensions.corestats.CoreStats',\n",
      " 'scrapy.extensions.telnet.TelnetConsole',\n",
      " 'scrapy.extensions.memusage.MemoryUsage',\n",
      " 'scrapy.extensions.logstats.LogStats']\n",
      "2020-07-18 12:58:54 [scrapy.middleware] INFO: Enabled downloader middlewares:\n",
      "['scrapy.downloadermiddlewares.httpauth.HttpAuthMiddleware',\n",
      " 'scrapy.downloadermiddlewares.downloadtimeout.DownloadTimeoutMiddleware',\n",
      " 'scrapy.downloadermiddlewares.defaultheaders.DefaultHeadersMiddleware',\n",
      " 'scrapy.downloadermiddlewares.useragent.UserAgentMiddleware',\n",
      " 'scrapy.downloadermiddlewares.retry.RetryMiddleware',\n",
      " 'scrapy.downloadermiddlewares.redirect.MetaRefreshMiddleware',\n",
      " 'scrapy.downloadermiddlewares.httpcompression.HttpCompressionMiddleware',\n",
      " 'scrapy.downloadermiddlewares.redirect.RedirectMiddleware',\n",
      " 'scrapy.downloadermiddlewares.cookies.CookiesMiddleware',\n",
      " 'scrapy.downloadermiddlewares.httpproxy.HttpProxyMiddleware',\n",
      " 'scrapy.downloadermiddlewares.stats.DownloaderStats']\n",
      "2020-07-18 12:58:54 [scrapy.middleware] INFO: Enabled spider middlewares:\n",
      "['scrapy.spidermiddlewares.httperror.HttpErrorMiddleware',\n",
      " 'scrapy.spidermiddlewares.offsite.OffsiteMiddleware',\n",
      " 'scrapy.spidermiddlewares.referer.RefererMiddleware',\n",
      " 'scrapy.spidermiddlewares.urllength.UrlLengthMiddleware',\n",
      " 'scrapy.spidermiddlewares.depth.DepthMiddleware']\n",
      "2020-07-18 12:58:54 [scrapy.middleware] INFO: Enabled item pipelines:\n",
      "[]\n",
      "2020-07-18 12:58:54 [scrapy.core.engine] INFO: Spider opened\n",
      "2020-07-18 12:58:54 [scrapy.extensions.logstats] INFO: Crawled 0 pages (at 0 pages/min), scraped 0 items (at 0 items/min)\n",
      "2020-07-18 12:58:54 [scrapy.extensions.telnet] INFO: Telnet console listening on 127.0.0.1:6030\n",
      "2020-07-18 12:58:55 [scrapy.core.engine] DEBUG: Crawled (200) <GET https://www.immobilienscout24.de/Suche/de/sachsen-anhalt/magdeburg/wohnung-kaufen?pagenumber=5> (referer: None)\n",
      "2020-07-18 12:58:55 [scrapy.core.engine] DEBUG: Crawled (200) <GET https://www.immobilienscout24.de/Suche/de/sachsen-anhalt/magdeburg/wohnung-kaufen?pagenumber=4> (referer: None)\n",
      "2020-07-18 12:58:55 [scrapy.core.engine] DEBUG: Crawled (200) <GET https://www.immobilienscout24.de/Suche/de/sachsen-anhalt/magdeburg/wohnung-kaufen?pagenumber=2> (referer: None)\n",
      "2020-07-18 12:58:55 [scrapy.core.engine] DEBUG: Crawled (200) <GET https://www.immobilienscout24.de/Suche/de/sachsen-anhalt/magdeburg/wohnung-kaufen?pagenumber=6> (referer: None)\n",
      "2020-07-18 12:58:55 [scrapy.core.engine] DEBUG: Crawled (200) <GET https://www.immobilienscout24.de/Suche/de/sachsen-anhalt/magdeburg/wohnung-kaufen?pagenumber=3> (referer: None)\n",
      "2020-07-18 12:58:55 [scrapy.core.engine] DEBUG: Crawled (200) <GET https://www.immobilienscout24.de/Suche/de/sachsen-anhalt/magdeburg/wohnung-kaufen?pagenumber=1> (referer: None)\n",
      "2020-07-18 12:58:55 [selenium.webdriver.remote.remote_connection] DEBUG: POST http://127.0.0.1:40111/session/2d98f19938ab01a6bf819ad370456516/url {\"url\": \"https://www.immobilienscout24.de/expose/120752304#/\"}\n",
      "2020-07-18 12:58:55 [urllib3.connectionpool] DEBUG: http://127.0.0.1:40111 \"POST /session/2d98f19938ab01a6bf819ad370456516/url HTTP/1.1\" 200 14\n",
      "2020-07-18 12:58:55 [selenium.webdriver.remote.remote_connection] DEBUG: Finished Request\n",
      "2020-07-18 12:58:55 [selenium.webdriver.remote.remote_connection] DEBUG: GET http://127.0.0.1:40111/session/2d98f19938ab01a6bf819ad370456516/source {}\n",
      "2020-07-18 12:58:56 [urllib3.connectionpool] DEBUG: http://127.0.0.1:40111 \"GET /session/2d98f19938ab01a6bf819ad370456516/source HTTP/1.1\" 200 656604\n",
      "2020-07-18 12:58:56 [selenium.webdriver.remote.remote_connection] DEBUG: Finished Request\n",
      "2020-07-18 12:58:56 [selenium.webdriver.remote.remote_connection] DEBUG: POST http://127.0.0.1:40111/session/2d98f19938ab01a6bf819ad370456516/url {\"url\": \"https://www.immobilienscout24.de/expose/120411195#/\"}\n",
      "2020-07-18 12:58:57 [urllib3.connectionpool] DEBUG: http://127.0.0.1:40111 \"POST /session/2d98f19938ab01a6bf819ad370456516/url HTTP/1.1\" 200 14\n",
      "2020-07-18 12:58:57 [selenium.webdriver.remote.remote_connection] DEBUG: Finished Request\n",
      "2020-07-18 12:58:57 [selenium.webdriver.remote.remote_connection] DEBUG: GET http://127.0.0.1:40111/session/2d98f19938ab01a6bf819ad370456516/source {}\n",
      "2020-07-18 12:58:57 [urllib3.connectionpool] DEBUG: http://127.0.0.1:40111 \"GET /session/2d98f19938ab01a6bf819ad370456516/source HTTP/1.1\" 200 661278\n",
      "2020-07-18 12:58:57 [selenium.webdriver.remote.remote_connection] DEBUG: Finished Request\n",
      "2020-07-18 12:58:57 [selenium.webdriver.remote.remote_connection] DEBUG: POST http://127.0.0.1:40111/session/2d98f19938ab01a6bf819ad370456516/url {\"url\": \"https://www.immobilienscout24.de/expose/120331303#/\"}\n",
      "2020-07-18 12:58:58 [urllib3.connectionpool] DEBUG: http://127.0.0.1:40111 \"POST /session/2d98f19938ab01a6bf819ad370456516/url HTTP/1.1\" 200 14\n",
      "2020-07-18 12:58:58 [selenium.webdriver.remote.remote_connection] DEBUG: Finished Request\n",
      "2020-07-18 12:58:58 [selenium.webdriver.remote.remote_connection] DEBUG: GET http://127.0.0.1:40111/session/2d98f19938ab01a6bf819ad370456516/source {}\n",
      "2020-07-18 12:58:58 [urllib3.connectionpool] DEBUG: http://127.0.0.1:40111 \"GET /session/2d98f19938ab01a6bf819ad370456516/source HTTP/1.1\" 200 664137\n",
      "2020-07-18 12:58:58 [selenium.webdriver.remote.remote_connection] DEBUG: Finished Request\n",
      "2020-07-18 12:58:58 [scrapy.core.scraper] ERROR: Spider error processing <GET https://www.immobilienscout24.de/Suche/de/sachsen-anhalt/magdeburg/wohnung-kaufen?pagenumber=5> (referer: None)\n",
      "Traceback (most recent call last):\n",
      "  File \"/home/promit/.local/lib/python3.6/site-packages/twisted/internet/defer.py\", line 654, in _runCallbacks\n",
      "    current.result = callback(current.result, *args, **kw)\n",
      "  File \"<ipython-input-2-288ddccd905d>\", line 45, in parse_properties_list\n",
      "    self.scrap_property(src)\n",
      "  File \"<ipython-input-2-288ddccd905d>\", line 110, in scrap_property\n",
      "    commission = re.search('[0-9]+,?[0-9]*', commission).group() if commission is not None else ''\n",
      "AttributeError: 'NoneType' object has no attribute 'group'\n",
      "2020-07-18 12:58:58 [selenium.webdriver.remote.remote_connection] DEBUG: POST http://127.0.0.1:40111/session/2d98f19938ab01a6bf819ad370456516/url {\"url\": \"https://www.immobilienscout24.de/expose/119362376#/\"}\n",
      "2020-07-18 12:58:59 [urllib3.connectionpool] DEBUG: http://127.0.0.1:40111 \"POST /session/2d98f19938ab01a6bf819ad370456516/url HTTP/1.1\" 200 14\n",
      "2020-07-18 12:58:59 [selenium.webdriver.remote.remote_connection] DEBUG: Finished Request\n",
      "2020-07-18 12:58:59 [selenium.webdriver.remote.remote_connection] DEBUG: GET http://127.0.0.1:40111/session/2d98f19938ab01a6bf819ad370456516/source {}\n",
      "2020-07-18 12:58:59 [urllib3.connectionpool] DEBUG: http://127.0.0.1:40111 \"GET /session/2d98f19938ab01a6bf819ad370456516/source HTTP/1.1\" 200 658067\n",
      "2020-07-18 12:58:59 [selenium.webdriver.remote.remote_connection] DEBUG: Finished Request\n",
      "2020-07-18 12:58:59 [selenium.webdriver.remote.remote_connection] DEBUG: POST http://127.0.0.1:40111/session/2d98f19938ab01a6bf819ad370456516/url {\"url\": \"https://www.immobilienscout24.de/expose/116416984#/\"}\n",
      "2020-07-18 12:59:00 [urllib3.connectionpool] DEBUG: http://127.0.0.1:40111 \"POST /session/2d98f19938ab01a6bf819ad370456516/url HTTP/1.1\" 200 14\n",
      "2020-07-18 12:59:00 [selenium.webdriver.remote.remote_connection] DEBUG: Finished Request\n",
      "2020-07-18 12:59:00 [selenium.webdriver.remote.remote_connection] DEBUG: GET http://127.0.0.1:40111/session/2d98f19938ab01a6bf819ad370456516/source {}\n",
      "2020-07-18 12:59:00 [urllib3.connectionpool] DEBUG: http://127.0.0.1:40111 \"GET /session/2d98f19938ab01a6bf819ad370456516/source HTTP/1.1\" 200 664989\n"
     ]
    },
    {
     "name": "stderr",
     "output_type": "stream",
     "text": [
      "2020-07-18 12:59:00 [selenium.webdriver.remote.remote_connection] DEBUG: Finished Request\n",
      "2020-07-18 12:59:00 [selenium.webdriver.remote.remote_connection] DEBUG: POST http://127.0.0.1:40111/session/2d98f19938ab01a6bf819ad370456516/url {\"url\": \"https://www.immobilienscout24.de/expose/113311322#/\"}\n",
      "2020-07-18 12:59:01 [urllib3.connectionpool] DEBUG: http://127.0.0.1:40111 \"POST /session/2d98f19938ab01a6bf819ad370456516/url HTTP/1.1\" 200 14\n",
      "2020-07-18 12:59:01 [selenium.webdriver.remote.remote_connection] DEBUG: Finished Request\n",
      "2020-07-18 12:59:01 [selenium.webdriver.remote.remote_connection] DEBUG: GET http://127.0.0.1:40111/session/2d98f19938ab01a6bf819ad370456516/source {}\n",
      "2020-07-18 12:59:01 [urllib3.connectionpool] DEBUG: http://127.0.0.1:40111 \"GET /session/2d98f19938ab01a6bf819ad370456516/source HTTP/1.1\" 200 620791\n",
      "2020-07-18 12:59:01 [selenium.webdriver.remote.remote_connection] DEBUG: Finished Request\n",
      "2020-07-18 12:59:01 [selenium.webdriver.remote.remote_connection] DEBUG: POST http://127.0.0.1:40111/session/2d98f19938ab01a6bf819ad370456516/url {\"url\": \"https://www.immobilienscout24.de/expose/119463659#/\"}\n",
      "2020-07-18 12:59:02 [urllib3.connectionpool] DEBUG: http://127.0.0.1:40111 \"POST /session/2d98f19938ab01a6bf819ad370456516/url HTTP/1.1\" 200 14\n",
      "2020-07-18 12:59:02 [selenium.webdriver.remote.remote_connection] DEBUG: Finished Request\n",
      "2020-07-18 12:59:02 [selenium.webdriver.remote.remote_connection] DEBUG: GET http://127.0.0.1:40111/session/2d98f19938ab01a6bf819ad370456516/source {}\n",
      "2020-07-18 12:59:02 [urllib3.connectionpool] DEBUG: http://127.0.0.1:40111 \"GET /session/2d98f19938ab01a6bf819ad370456516/source HTTP/1.1\" 200 597039\n",
      "2020-07-18 12:59:02 [selenium.webdriver.remote.remote_connection] DEBUG: Finished Request\n",
      "2020-07-18 12:59:02 [scrapy.core.scraper] ERROR: Spider error processing <GET https://www.immobilienscout24.de/Suche/de/sachsen-anhalt/magdeburg/wohnung-kaufen?pagenumber=4> (referer: None)\n",
      "Traceback (most recent call last):\n",
      "  File \"/home/promit/.local/lib/python3.6/site-packages/twisted/internet/defer.py\", line 654, in _runCallbacks\n",
      "    current.result = callback(current.result, *args, **kw)\n",
      "  File \"<ipython-input-2-288ddccd905d>\", line 45, in parse_properties_list\n",
      "    self.scrap_property(src)\n",
      "  File \"<ipython-input-2-288ddccd905d>\", line 110, in scrap_property\n",
      "    commission = re.search('[0-9]+,?[0-9]*', commission).group() if commission is not None else ''\n",
      "AttributeError: 'NoneType' object has no attribute 'group'\n",
      "2020-07-18 12:59:02 [selenium.webdriver.remote.remote_connection] DEBUG: POST http://127.0.0.1:40111/session/2d98f19938ab01a6bf819ad370456516/url {\"url\": \"https://www.immobilienscout24.de/expose/120865321#/\"}\n",
      "2020-07-18 12:59:03 [urllib3.connectionpool] DEBUG: http://127.0.0.1:40111 \"POST /session/2d98f19938ab01a6bf819ad370456516/url HTTP/1.1\" 200 14\n",
      "2020-07-18 12:59:03 [selenium.webdriver.remote.remote_connection] DEBUG: Finished Request\n",
      "2020-07-18 12:59:03 [selenium.webdriver.remote.remote_connection] DEBUG: GET http://127.0.0.1:40111/session/2d98f19938ab01a6bf819ad370456516/source {}\n",
      "2020-07-18 12:59:03 [urllib3.connectionpool] DEBUG: http://127.0.0.1:40111 \"GET /session/2d98f19938ab01a6bf819ad370456516/source HTTP/1.1\" 200 592256\n",
      "2020-07-18 12:59:03 [selenium.webdriver.remote.remote_connection] DEBUG: Finished Request\n",
      "2020-07-18 12:59:03 [selenium.webdriver.remote.remote_connection] DEBUG: POST http://127.0.0.1:40111/session/2d98f19938ab01a6bf819ad370456516/url {\"url\": \"https://www.immobilienscout24.de/expose/120348457#/\"}\n",
      "2020-07-18 12:59:04 [urllib3.connectionpool] DEBUG: http://127.0.0.1:40111 \"POST /session/2d98f19938ab01a6bf819ad370456516/url HTTP/1.1\" 200 14\n",
      "2020-07-18 12:59:04 [selenium.webdriver.remote.remote_connection] DEBUG: Finished Request\n",
      "2020-07-18 12:59:04 [selenium.webdriver.remote.remote_connection] DEBUG: GET http://127.0.0.1:40111/session/2d98f19938ab01a6bf819ad370456516/source {}\n",
      "2020-07-18 12:59:04 [urllib3.connectionpool] DEBUG: http://127.0.0.1:40111 \"GET /session/2d98f19938ab01a6bf819ad370456516/source HTTP/1.1\" 200 625535\n",
      "2020-07-18 12:59:04 [selenium.webdriver.remote.remote_connection] DEBUG: Finished Request\n",
      "2020-07-18 12:59:04 [scrapy.core.scraper] ERROR: Spider error processing <GET https://www.immobilienscout24.de/Suche/de/sachsen-anhalt/magdeburg/wohnung-kaufen?pagenumber=2> (referer: None)\n",
      "Traceback (most recent call last):\n",
      "  File \"/home/promit/.local/lib/python3.6/site-packages/twisted/internet/defer.py\", line 654, in _runCallbacks\n",
      "    current.result = callback(current.result, *args, **kw)\n",
      "  File \"<ipython-input-2-288ddccd905d>\", line 45, in parse_properties_list\n",
      "    self.scrap_property(src)\n",
      "  File \"<ipython-input-2-288ddccd905d>\", line 110, in scrap_property\n",
      "    commission = re.search('[0-9]+,?[0-9]*', commission).group() if commission is not None else ''\n",
      "AttributeError: 'NoneType' object has no attribute 'group'\n",
      "2020-07-18 12:59:04 [selenium.webdriver.remote.remote_connection] DEBUG: POST http://127.0.0.1:40111/session/2d98f19938ab01a6bf819ad370456516/url {\"url\": \"https://www.immobilienscout24.de/expose/116832580#/\"}\n",
      "2020-07-18 12:59:05 [urllib3.connectionpool] DEBUG: http://127.0.0.1:40111 \"POST /session/2d98f19938ab01a6bf819ad370456516/url HTTP/1.1\" 200 14\n",
      "2020-07-18 12:59:05 [selenium.webdriver.remote.remote_connection] DEBUG: Finished Request\n",
      "2020-07-18 12:59:05 [selenium.webdriver.remote.remote_connection] DEBUG: GET http://127.0.0.1:40111/session/2d98f19938ab01a6bf819ad370456516/source {}\n",
      "2020-07-18 12:59:05 [urllib3.connectionpool] DEBUG: http://127.0.0.1:40111 \"GET /session/2d98f19938ab01a6bf819ad370456516/source HTTP/1.1\" 200 589555\n",
      "2020-07-18 12:59:05 [selenium.webdriver.remote.remote_connection] DEBUG: Finished Request\n",
      "2020-07-18 12:59:05 [selenium.webdriver.remote.remote_connection] DEBUG: POST http://127.0.0.1:40111/session/2d98f19938ab01a6bf819ad370456516/url {\"url\": \"https://www.immobilienscout24.de/expose/116832544#/\"}\n",
      "2020-07-18 12:59:05 [urllib3.connectionpool] DEBUG: http://127.0.0.1:40111 \"POST /session/2d98f19938ab01a6bf819ad370456516/url HTTP/1.1\" 200 14\n",
      "2020-07-18 12:59:05 [selenium.webdriver.remote.remote_connection] DEBUG: Finished Request\n",
      "2020-07-18 12:59:05 [selenium.webdriver.remote.remote_connection] DEBUG: GET http://127.0.0.1:40111/session/2d98f19938ab01a6bf819ad370456516/source {}\n",
      "2020-07-18 12:59:05 [urllib3.connectionpool] DEBUG: http://127.0.0.1:40111 \"GET /session/2d98f19938ab01a6bf819ad370456516/source HTTP/1.1\" 200 583205\n",
      "2020-07-18 12:59:05 [selenium.webdriver.remote.remote_connection] DEBUG: Finished Request\n",
      "2020-07-18 12:59:05 [selenium.webdriver.remote.remote_connection] DEBUG: POST http://127.0.0.1:40111/session/2d98f19938ab01a6bf819ad370456516/url {\"url\": \"https://www.immobilienscout24.de/expose/116832445#/\"}\n",
      "2020-07-18 12:59:06 [urllib3.connectionpool] DEBUG: http://127.0.0.1:40111 \"POST /session/2d98f19938ab01a6bf819ad370456516/url HTTP/1.1\" 200 14\n",
      "2020-07-18 12:59:06 [selenium.webdriver.remote.remote_connection] DEBUG: Finished Request\n",
      "2020-07-18 12:59:06 [selenium.webdriver.remote.remote_connection] DEBUG: GET http://127.0.0.1:40111/session/2d98f19938ab01a6bf819ad370456516/source {}\n",
      "2020-07-18 12:59:07 [urllib3.connectionpool] DEBUG: http://127.0.0.1:40111 \"GET /session/2d98f19938ab01a6bf819ad370456516/source HTTP/1.1\" 200 589866\n",
      "2020-07-18 12:59:07 [selenium.webdriver.remote.remote_connection] DEBUG: Finished Request\n",
      "2020-07-18 12:59:07 [selenium.webdriver.remote.remote_connection] DEBUG: POST http://127.0.0.1:40111/session/2d98f19938ab01a6bf819ad370456516/url {\"url\": \"https://www.immobilienscout24.de/expose/116832295#/\"}\n",
      "2020-07-18 12:59:07 [urllib3.connectionpool] DEBUG: http://127.0.0.1:40111 \"POST /session/2d98f19938ab01a6bf819ad370456516/url HTTP/1.1\" 200 14\n",
      "2020-07-18 12:59:07 [selenium.webdriver.remote.remote_connection] DEBUG: Finished Request\n",
      "2020-07-18 12:59:07 [selenium.webdriver.remote.remote_connection] DEBUG: GET http://127.0.0.1:40111/session/2d98f19938ab01a6bf819ad370456516/source {}\n",
      "2020-07-18 12:59:08 [urllib3.connectionpool] DEBUG: http://127.0.0.1:40111 \"GET /session/2d98f19938ab01a6bf819ad370456516/source HTTP/1.1\" 200 604987\n",
      "2020-07-18 12:59:08 [selenium.webdriver.remote.remote_connection] DEBUG: Finished Request\n"
     ]
    },
    {
     "name": "stderr",
     "output_type": "stream",
     "text": [
      "2020-07-18 12:59:08 [scrapy.core.scraper] ERROR: Spider error processing <GET https://www.immobilienscout24.de/Suche/de/sachsen-anhalt/magdeburg/wohnung-kaufen?pagenumber=6> (referer: None)\n",
      "Traceback (most recent call last):\n",
      "  File \"/home/promit/.local/lib/python3.6/site-packages/twisted/internet/defer.py\", line 654, in _runCallbacks\n",
      "    current.result = callback(current.result, *args, **kw)\n",
      "  File \"<ipython-input-2-288ddccd905d>\", line 45, in parse_properties_list\n",
      "    self.scrap_property(src)\n",
      "  File \"<ipython-input-2-288ddccd905d>\", line 82, in scrap_property\n",
      "    rooms_count = int(rooms_count) if rooms_count is not None else 0\n",
      "ValueError: invalid literal for int() with base 10: ' 2,5 '\n",
      "2020-07-18 12:59:08 [selenium.webdriver.remote.remote_connection] DEBUG: POST http://127.0.0.1:40111/session/2d98f19938ab01a6bf819ad370456516/url {\"url\": \"https://www.immobilienscout24.de/expose/120678647#/\"}\n",
      "2020-07-18 12:59:09 [urllib3.connectionpool] DEBUG: http://127.0.0.1:40111 \"POST /session/2d98f19938ab01a6bf819ad370456516/url HTTP/1.1\" 200 14\n",
      "2020-07-18 12:59:09 [selenium.webdriver.remote.remote_connection] DEBUG: Finished Request\n",
      "2020-07-18 12:59:09 [selenium.webdriver.remote.remote_connection] DEBUG: GET http://127.0.0.1:40111/session/2d98f19938ab01a6bf819ad370456516/source {}\n",
      "2020-07-18 12:59:09 [urllib3.connectionpool] DEBUG: http://127.0.0.1:40111 \"GET /session/2d98f19938ab01a6bf819ad370456516/source HTTP/1.1\" 200 573220\n",
      "2020-07-18 12:59:09 [selenium.webdriver.remote.remote_connection] DEBUG: Finished Request\n",
      "2020-07-18 12:59:09 [selenium.webdriver.remote.remote_connection] DEBUG: POST http://127.0.0.1:40111/session/2d98f19938ab01a6bf819ad370456516/url {\"url\": \"https://www.immobilienscout24.de/expose/120524749#/\"}\n",
      "2020-07-18 12:59:09 [urllib3.connectionpool] DEBUG: http://127.0.0.1:40111 \"POST /session/2d98f19938ab01a6bf819ad370456516/url HTTP/1.1\" 200 14\n",
      "2020-07-18 12:59:09 [selenium.webdriver.remote.remote_connection] DEBUG: Finished Request\n",
      "2020-07-18 12:59:09 [selenium.webdriver.remote.remote_connection] DEBUG: GET http://127.0.0.1:40111/session/2d98f19938ab01a6bf819ad370456516/source {}\n",
      "2020-07-18 12:59:10 [urllib3.connectionpool] DEBUG: http://127.0.0.1:40111 \"GET /session/2d98f19938ab01a6bf819ad370456516/source HTTP/1.1\" 200 689854\n",
      "2020-07-18 12:59:10 [selenium.webdriver.remote.remote_connection] DEBUG: Finished Request\n",
      "2020-07-18 12:59:10 [scrapy.core.scraper] ERROR: Spider error processing <GET https://www.immobilienscout24.de/Suche/de/sachsen-anhalt/magdeburg/wohnung-kaufen?pagenumber=3> (referer: None)\n",
      "Traceback (most recent call last):\n",
      "  File \"/home/promit/.local/lib/python3.6/site-packages/twisted/internet/defer.py\", line 654, in _runCallbacks\n",
      "    current.result = callback(current.result, *args, **kw)\n",
      "  File \"<ipython-input-2-288ddccd905d>\", line 45, in parse_properties_list\n",
      "    self.scrap_property(src)\n",
      "  File \"<ipython-input-2-288ddccd905d>\", line 110, in scrap_property\n",
      "    commission = re.search('[0-9]+,?[0-9]*', commission).group() if commission is not None else ''\n",
      "AttributeError: 'NoneType' object has no attribute 'group'\n",
      "2020-07-18 12:59:10 [selenium.webdriver.remote.remote_connection] DEBUG: POST http://127.0.0.1:40111/session/2d98f19938ab01a6bf819ad370456516/url {\"url\": \"https://www.immobilienscout24.de/expose/116955903#/\"}\n",
      "2020-07-18 12:59:10 [urllib3.connectionpool] DEBUG: http://127.0.0.1:40111 \"POST /session/2d98f19938ab01a6bf819ad370456516/url HTTP/1.1\" 200 14\n",
      "2020-07-18 12:59:10 [selenium.webdriver.remote.remote_connection] DEBUG: Finished Request\n",
      "2020-07-18 12:59:10 [selenium.webdriver.remote.remote_connection] DEBUG: GET http://127.0.0.1:40111/session/2d98f19938ab01a6bf819ad370456516/source {}\n",
      "2020-07-18 12:59:11 [urllib3.connectionpool] DEBUG: http://127.0.0.1:40111 \"GET /session/2d98f19938ab01a6bf819ad370456516/source HTTP/1.1\" 200 609822\n",
      "2020-07-18 12:59:11 [selenium.webdriver.remote.remote_connection] DEBUG: Finished Request\n",
      "2020-07-18 12:59:11 [scrapy.core.scraper] ERROR: Spider error processing <GET https://www.immobilienscout24.de/Suche/de/sachsen-anhalt/magdeburg/wohnung-kaufen?pagenumber=1> (referer: None)\n",
      "Traceback (most recent call last):\n",
      "  File \"/home/promit/.local/lib/python3.6/site-packages/twisted/internet/defer.py\", line 654, in _runCallbacks\n",
      "    current.result = callback(current.result, *args, **kw)\n",
      "  File \"<ipython-input-2-288ddccd905d>\", line 45, in parse_properties_list\n",
      "    self.scrap_property(src)\n",
      "  File \"<ipython-input-2-288ddccd905d>\", line 110, in scrap_property\n",
      "    commission = re.search('[0-9]+,?[0-9]*', commission).group() if commission is not None else ''\n",
      "AttributeError: 'NoneType' object has no attribute 'group'\n",
      "2020-07-18 12:59:11 [scrapy.core.engine] INFO: Closing spider (finished)\n",
      "2020-07-18 12:59:11 [scrapy.statscollectors] INFO: Dumping Scrapy stats:\n",
      "{'downloader/request_bytes': 1710,\n",
      " 'downloader/request_count': 6,\n",
      " 'downloader/request_method_count/GET': 6,\n",
      " 'downloader/response_bytes': 802925,\n",
      " 'downloader/response_count': 6,\n",
      " 'downloader/response_status_count/200': 6,\n",
      " 'elapsed_time_seconds': 16.883924,\n",
      " 'finish_reason': 'finished',\n",
      " 'finish_time': datetime.datetime(2020, 7, 18, 10, 59, 11, 138526),\n",
      " 'log_count/DEBUG': 102,\n",
      " 'log_count/ERROR': 6,\n",
      " 'log_count/INFO': 10,\n",
      " 'memusage/max': 120725504,\n",
      " 'memusage/startup': 120725504,\n",
      " 'response_received_count': 6,\n",
      " 'scheduler/dequeued': 6,\n",
      " 'scheduler/dequeued/memory': 6,\n",
      " 'scheduler/enqueued': 6,\n",
      " 'scheduler/enqueued/memory': 6,\n",
      " 'spider_exceptions/AttributeError': 5,\n",
      " 'spider_exceptions/ValueError': 1,\n",
      " 'start_time': datetime.datetime(2020, 7, 18, 10, 58, 54, 254602)}\n",
      "2020-07-18 12:59:11 [scrapy.core.engine] INFO: Spider closed (finished)\n"
     ]
    }
   ],
   "source": [
    "df_property_data = pd.DataFrame(columns = ['Title', 'Address', 'Person', 'Telefon', 'Mobil', 'Fax', 'Kaufpreis', 'Geschätzte Monatsrate', 'Zimmer', 'Wohnfläche ca.', 'Tags', 'Typ', 'Etage', 'Etage Total', 'Schlafzimmer', 'Provision für Käufer', 'Hausgeld', 'Baujahr', 'Objektzustand', 'Heizungsart', 'Energieeffizienzklasse', 'Lage'])\n",
    "\n",
    "options = Options()\n",
    "options.headless = True\n",
    "\n",
    "#driver = webdriver.Chrome(options=options, executable_path=\"chromedriver.exe\")\n",
    "\n",
    "driver = webdriver.Chrome()\n",
    "\n",
    "class Scrap_immobilienscout(scrapy.Spider):\n",
    "    \n",
    "    name = 'scrap_immobilienscout'\n",
    "    \n",
    "    def start_requests(self):\n",
    "        #Replace this url with the url of your search results\n",
    "        #url = 'https://www.immobilienscout24.de/Suche/de/berlin/berlin/haus-mieten?enteredFrom=one_step_search'\n",
    "        #url = 'https://www.immobilienscout24.de/Suche/de/berlin/berlin/haus-kaufen?enteredFrom=one_step_search'\n",
    "        url = 'https://www.immobilienscout24.de/Suche/de/sachsen-anhalt/magdeburg/wohnung-kaufen?enteredFrom=one_step_search'\n",
    "        \n",
    "        first_page = urllib.request.urlopen(url)\n",
    "        max_pages = first_page.read()\n",
    "        max_pages = max_pages.decode(\"utf8\")\n",
    "        first_page.close()\n",
    "\n",
    "\n",
    "        slctr = Selector(text = max_pages)\n",
    "        max_pages = slctr.xpath('//select[@aria-label=\"Seitenauswahl\"]/option[last()]/@value').extract_first()\n",
    "        max_pages = int(max_pages) if max_pages is not None else 1\n",
    "        \n",
    "        base_url = url.replace('enteredFrom=one_step_search', '')\n",
    "        \n",
    "        for page_number in range(max_pages):\n",
    "            url = base_url + 'pagenumber=' + str(page_number + 1)\n",
    "            yield scrapy.Request(url, callback = self.parse_properties_list)\n",
    "    \n",
    "    def parse_properties_list(self, response):\n",
    "        \n",
    "        property_urls = response.xpath('//a[contains(@class, \"result-list-entry__brand-title-container\")]/@href').extract()\n",
    "        \n",
    "        for url in property_urls:\n",
    "            if 'immobilienscout24.de' not in url:\n",
    "                url = 'https://www.immobilienscout24.de' + url + '#/'\n",
    "                driver.get(url)\n",
    "                src = driver.page_source\n",
    "                self.scrap_property(src)\n",
    "    \n",
    "    \n",
    "    def scrap_property(self, src):\n",
    "        sel = Selector(text = src)\n",
    "        \n",
    "        title = sel.css('h1#expose-title ::text').extract_first()\n",
    "        \n",
    "        address = sel.xpath('//div[@class=\"address-block\"]//span[@class=\"block font-nowrap print-hide\"]//text()').extract_first()\n",
    "        address = address.strip() if address is not None else ''\n",
    "        region = sel.css('span.zip-region-and-country::text').extract_first()\n",
    "        address += ' ' + region if region is not None else ''\n",
    "        \n",
    "        person = sel.xpath('//div[@data-qa=\"contactName\"]//text()').extract_first()\n",
    "        \n",
    "        phone = sel.xpath('//script//text()').extract_first()\n",
    "        phone = phone if phone is not None else ''\n",
    "        telefon = re.findall('\"phoneNumber\":\\{\"contactNumber\":\"(\\+?[0-9 ]*)\"\\}', phone)\n",
    "        telefon = int(telefon[0].replace(' ', '')) if len(telefon) > 0 else None\n",
    "        \n",
    "        mobil = re.findall('\"cellPhoneNumber\":\\{\"contactNumber\":\"(\\+?[0-9 ]*)\"\\}', phone)\n",
    "        mobil = mobil[0] if len(mobil) > 0 else ''\n",
    "        mobil = mobil.replace(' ', '')\n",
    "        fax = re.findall('\"faxNumber\":\\{\"contactNumber\":\"(\\+?[0-9 ]*)\"\\}', phone)\n",
    "        fax = fax[0] if len(fax) > 0 else ''\n",
    "        fax = fax.replace(' ', '')\n",
    "        \n",
    "        \n",
    "        price = sel.xpath('//dd[contains(@class, \"is24qa-kaufpreis\")]//text()').extract_first()\n",
    "        price = re.sub('[^0-9]', '', price) if price is not None else 0\n",
    "        price = int(price)\n",
    "        \n",
    "        m_rate = sel.xpath('//span[contains(@class, \"monthly-rate-result\") and contains(@class, \"monthly-rate-value\")]//text()').extract_first()\n",
    "        m_rate = re.sub('[^0-9]', '', m_rate) if m_rate is not None else 0\n",
    "        m_rate = int(m_rate)\n",
    "        \n",
    "        rooms_count = sel.xpath('//dd[contains(@class,\"is24qa-zimmer\")]/text()').extract_first()\n",
    "        rooms_count = int(rooms_count) if rooms_count is not None else 0\n",
    "        \n",
    "        liv_area = sel.xpath('//dd[contains(@class, \"is24qa-wohnflaeche-ca\")]/text()').extract_first()\n",
    "        liv_area = re.sub('[^0-9]', '', liv_area) if liv_area is not None else 0\n",
    "        liv_area = int(liv_area)\n",
    "        \n",
    "        tags = sel.xpath('//div[contains(@class, \"criteriagroup\") and contains(@class, \"boolean-listing\")]//span[contains(@class, \"palm-hide\")]/text()').extract()\n",
    "        tags = list(set(tags))\n",
    "        tags = [t for t in tags if t != ' ']\n",
    "        tags = tags if len(tags) > 0 else ''\n",
    "        \n",
    "        p_type = sel.xpath('//dd[contains(@class, \"is24qa-typ\")]/text()').extract_first()\n",
    "        \n",
    "        floor = sel.xpath('//dd[contains(@class, \"is24qa-etage\")]//text()').extract_first()\n",
    "        floor = floor if floor is not None else ''\n",
    "        floor = re.findall('[0-9]+', floor)\n",
    "        total_floors = int(floor[1]) if len(floor) > 1 else 0\n",
    "        floor = int(floor[0]) if len(floor) > 0 else 0\n",
    "        \n",
    "        bedroom = sel.xpath('//dd[contains(@class, \"is24qa-schlafzimmer\")]//text()').extract_first()\n",
    "        bedroom = re.sub('[^0-9]', '', bedroom) if bedroom is not None else 0\n",
    "        bedroom = int(bedroom)\n",
    "        \n",
    "        allowance = sel.xpath('//dd[contains(@class, \"is24qa-hausgeld\")]//text()').extract_first()\n",
    "        allowance = re.sub('[^0-9]', '', allowance) if allowance is not None else 0\n",
    "        allowance = int(allowance)\n",
    "        \n",
    "        commission = sel.xpath('//dd[contains(@class, \"is24qa-provision\")]/text()').extract_first()\n",
    "        commission = re.search('[0-9]+,?[0-9]*', commission).group() if commission is not None else ''\n",
    "        commission = commission.replace(',', '.')\n",
    "        commission = float(commission) if len(commission) > 0 else 0\n",
    "        \n",
    "        baujahr = sel.xpath('//dd[contains(@class, \"is24qa-baujahr\")]//text()').extract_first()\n",
    "        \n",
    "        objektzustand = sel.xpath('//dd[contains(@class, \"is24qa-objektzustand\")]//text()').extract_first()\n",
    "        \n",
    "        heizungsart = sel.xpath('//dd[contains(@class, \"is24qa-heizungsart\")]//text()').extract_first()\n",
    "        \n",
    "        energieeffizienzklasse = sel.xpath('//dd[contains(@class, \"is24qa-energieeffizienzklasse\")]//text()').extract_first()\n",
    "        \n",
    "        location = sel.xpath('//pre[contains(@class, \"is24qa-lage\")]/text()').extract_first()\n",
    "\n",
    "        lst_row = [title, address, person, telefon, mobil, fax, price, m_rate, rooms_count, liv_area, tags, p_type, floor, total_floors, bedroom, commission, allowance, baujahr, objektzustand, heizungsart, energieeffizienzklasse, location]\n",
    "        df_property_data.loc[len(df_property_data)] = lst_row\n",
    "        df_property_data.to_csv('berlin_properties.csv', index=False)\n",
    "        \n",
    "process = CrawlerProcess()\n",
    "process.crawl(Scrap_immobilienscout)\n",
    "process.start()"
   ]
  },
  {
   "cell_type": "code",
   "execution_count": 28,
   "metadata": {},
   "outputs": [
    {
     "data": {
      "text/plain": [
       "0       60\n",
       "1       60\n",
       "2       40\n",
       "3       47\n",
       "4       68\n",
       "5     4758\n",
       "6    14395\n",
       "7     8228\n",
       "8     5214\n",
       "9      928\n",
       "Name: Wohnfläche ca., dtype: object"
      ]
     },
     "execution_count": 28,
     "metadata": {},
     "output_type": "execute_result"
    }
   ],
   "source": [
    "df_property_data['Wohnfläche ca.']"
   ]
  },
  {
   "cell_type": "code",
   "execution_count": 3,
   "metadata": {},
   "outputs": [],
   "source": [
    "df_property_data.to_csv('immobilienscout_result.csv', index=False)"
   ]
  },
  {
   "cell_type": "code",
   "execution_count": 4,
   "metadata": {},
   "outputs": [
    {
     "data": {
      "text/plain": [
       "Index(['Title', 'Address', 'Person', 'Telefon', 'Mobil', 'Fax', 'Kaufpreis',\n",
       "       'Geschätzte Monatsrate', 'Zimmer', 'Wohnfläche ca.', 'Tags', 'Typ',\n",
       "       'Etage', 'Etage Total', 'Schlafzimmer', 'Provision für Käufer',\n",
       "       'Hausgeld', 'Baujahr', 'Objektzustand', 'Heizungsart',\n",
       "       'Energieeffizienzklasse', 'Lage'],\n",
       "      dtype='object')"
      ]
     },
     "execution_count": 4,
     "metadata": {},
     "output_type": "execute_result"
    }
   ],
   "source": [
    "df_property_data.columns"
   ]
  },
  {
   "cell_type": "code",
   "execution_count": 5,
   "metadata": {},
   "outputs": [],
   "source": [
    "df_property_data['bruttomietrendite'] = ''"
   ]
  },
  {
   "cell_type": "code",
   "execution_count": 6,
   "metadata": {},
   "outputs": [
    {
     "data": {
      "text/plain": [
       "Index(['Title', 'Address', 'Person', 'Telefon', 'Mobil', 'Fax', 'Kaufpreis',\n",
       "       'Geschätzte Monatsrate', 'Zimmer', 'Wohnfläche ca.', 'Tags', 'Typ',\n",
       "       'Etage', 'Etage Total', 'Schlafzimmer', 'Provision für Käufer',\n",
       "       'Hausgeld', 'Baujahr', 'Objektzustand', 'Heizungsart',\n",
       "       'Energieeffizienzklasse', 'Lage', 'bruttomietrendite'],\n",
       "      dtype='object')"
      ]
     },
     "execution_count": 6,
     "metadata": {},
     "output_type": "execute_result"
    }
   ],
   "source": [
    "df_property_data.columns"
   ]
  },
  {
   "cell_type": "code",
   "execution_count": 7,
   "metadata": {},
   "outputs": [],
   "source": [
    "df_total_price = df_property_data[['Kaufpreis', 'Provision für Käufer']]"
   ]
  },
  {
   "cell_type": "code",
   "execution_count": 8,
   "metadata": {},
   "outputs": [
    {
     "name": "stderr",
     "output_type": "stream",
     "text": [
      "2020-07-18 12:59:24 [numexpr.utils] INFO: NumExpr defaulting to 8 threads.\n",
      "2020-07-18 12:59:24 [py.warnings] WARNING: /home/promit/.local/lib/python3.6/site-packages/ipykernel_launcher.py:1: SettingWithCopyWarning: \n",
      "A value is trying to be set on a copy of a slice from a DataFrame.\n",
      "Try using .loc[row_indexer,col_indexer] = value instead\n",
      "\n",
      "See the caveats in the documentation: https://pandas.pydata.org/pandas-docs/stable/user_guide/indexing.html#returning-a-view-versus-a-copy\n",
      "  \"\"\"Entry point for launching an IPython kernel.\n",
      "\n"
     ]
    }
   ],
   "source": [
    "df_total_price['notar'] = 0.015 * df_property_data['Kaufpreis']"
   ]
  },
  {
   "cell_type": "code",
   "execution_count": 9,
   "metadata": {},
   "outputs": [
    {
     "name": "stderr",
     "output_type": "stream",
     "text": [
      "2020-07-18 12:59:27 [py.warnings] WARNING: /home/promit/.local/lib/python3.6/site-packages/ipykernel_launcher.py:1: SettingWithCopyWarning: \n",
      "A value is trying to be set on a copy of a slice from a DataFrame.\n",
      "Try using .loc[row_indexer,col_indexer] = value instead\n",
      "\n",
      "See the caveats in the documentation: https://pandas.pydata.org/pandas-docs/stable/user_guide/indexing.html#returning-a-view-versus-a-copy\n",
      "  \"\"\"Entry point for launching an IPython kernel.\n",
      "\n"
     ]
    }
   ],
   "source": [
    "df_total_price['grundbuchamt'] = 0.005 * df_property_data['Kaufpreis']"
   ]
  },
  {
   "cell_type": "code",
   "execution_count": 10,
   "metadata": {},
   "outputs": [
    {
     "name": "stderr",
     "output_type": "stream",
     "text": [
      "2020-07-18 12:59:28 [py.warnings] WARNING: /home/promit/.local/lib/python3.6/site-packages/ipykernel_launcher.py:1: SettingWithCopyWarning: \n",
      "A value is trying to be set on a copy of a slice from a DataFrame.\n",
      "Try using .loc[row_indexer,col_indexer] = value instead\n",
      "\n",
      "See the caveats in the documentation: https://pandas.pydata.org/pandas-docs/stable/user_guide/indexing.html#returning-a-view-versus-a-copy\n",
      "  \"\"\"Entry point for launching an IPython kernel.\n",
      "\n"
     ]
    }
   ],
   "source": [
    "df_total_price['Grunderwerbsteur'] = 0.05 * df_property_data['Kaufpreis']"
   ]
  },
  {
   "cell_type": "code",
   "execution_count": 11,
   "metadata": {},
   "outputs": [
    {
     "name": "stderr",
     "output_type": "stream",
     "text": [
      "2020-07-18 12:59:28 [py.warnings] WARNING: /home/promit/.local/lib/python3.6/site-packages/ipykernel_launcher.py:1: SettingWithCopyWarning: \n",
      "A value is trying to be set on a copy of a slice from a DataFrame.\n",
      "Try using .loc[row_indexer,col_indexer] = value instead\n",
      "\n",
      "See the caveats in the documentation: https://pandas.pydata.org/pandas-docs/stable/user_guide/indexing.html#returning-a-view-versus-a-copy\n",
      "  \"\"\"Entry point for launching an IPython kernel.\n",
      "\n"
     ]
    }
   ],
   "source": [
    "df_total_price['Provision'] = df_total_price['Kaufpreis'] * df_total_price['Provision für Käufer'] * 0.01"
   ]
  },
  {
   "cell_type": "code",
   "execution_count": 12,
   "metadata": {},
   "outputs": [
    {
     "name": "stderr",
     "output_type": "stream",
     "text": [
      "2020-07-18 12:59:30 [py.warnings] WARNING: /home/promit/.local/lib/python3.6/site-packages/ipykernel_launcher.py:1: SettingWithCopyWarning: \n",
      "A value is trying to be set on a copy of a slice from a DataFrame.\n",
      "Try using .loc[row_indexer,col_indexer] = value instead\n",
      "\n",
      "See the caveats in the documentation: https://pandas.pydata.org/pandas-docs/stable/user_guide/indexing.html#returning-a-view-versus-a-copy\n",
      "  \"\"\"Entry point for launching an IPython kernel.\n",
      "\n"
     ]
    }
   ],
   "source": [
    "df_total_price['total_buying_price'] = df_total_price['Kaufpreis'] + df_total_price['notar'] + df_total_price['grundbuchamt'] + df_total_price['Grunderwerbsteur'] + df_total_price['Provision']"
   ]
  },
  {
   "cell_type": "code",
   "execution_count": 13,
   "metadata": {},
   "outputs": [
    {
     "data": {
      "text/html": [
       "<div>\n",
       "<style scoped>\n",
       "    .dataframe tbody tr th:only-of-type {\n",
       "        vertical-align: middle;\n",
       "    }\n",
       "\n",
       "    .dataframe tbody tr th {\n",
       "        vertical-align: top;\n",
       "    }\n",
       "\n",
       "    .dataframe thead th {\n",
       "        text-align: right;\n",
       "    }\n",
       "</style>\n",
       "<table border=\"1\" class=\"dataframe\">\n",
       "  <thead>\n",
       "    <tr style=\"text-align: right;\">\n",
       "      <th></th>\n",
       "      <th>Kaufpreis</th>\n",
       "      <th>Provision für Käufer</th>\n",
       "      <th>notar</th>\n",
       "      <th>grundbuchamt</th>\n",
       "      <th>Grunderwerbsteur</th>\n",
       "      <th>Provision</th>\n",
       "      <th>total_buying_price</th>\n",
       "    </tr>\n",
       "  </thead>\n",
       "  <tbody>\n",
       "    <tr>\n",
       "      <th>0</th>\n",
       "      <td>180000</td>\n",
       "      <td>0</td>\n",
       "      <td>2700</td>\n",
       "      <td>900</td>\n",
       "      <td>9000</td>\n",
       "      <td>0</td>\n",
       "      <td>192600</td>\n",
       "    </tr>\n",
       "    <tr>\n",
       "      <th>1</th>\n",
       "      <td>89000</td>\n",
       "      <td>3.57</td>\n",
       "      <td>1335</td>\n",
       "      <td>445</td>\n",
       "      <td>4450</td>\n",
       "      <td>3177.3</td>\n",
       "      <td>98407.3</td>\n",
       "    </tr>\n",
       "    <tr>\n",
       "      <th>2</th>\n",
       "      <td>62000</td>\n",
       "      <td>5</td>\n",
       "      <td>930</td>\n",
       "      <td>310</td>\n",
       "      <td>3100</td>\n",
       "      <td>3100</td>\n",
       "      <td>69440</td>\n",
       "    </tr>\n",
       "    <tr>\n",
       "      <th>3</th>\n",
       "      <td>96000</td>\n",
       "      <td>7.14</td>\n",
       "      <td>1440</td>\n",
       "      <td>480</td>\n",
       "      <td>4800</td>\n",
       "      <td>6854.4</td>\n",
       "      <td>109574</td>\n",
       "    </tr>\n",
       "    <tr>\n",
       "      <th>4</th>\n",
       "      <td>84932</td>\n",
       "      <td>6.96</td>\n",
       "      <td>1273.98</td>\n",
       "      <td>424.66</td>\n",
       "      <td>4246.6</td>\n",
       "      <td>5911.27</td>\n",
       "      <td>96788.5</td>\n",
       "    </tr>\n",
       "    <tr>\n",
       "      <th>5</th>\n",
       "      <td>0</td>\n",
       "      <td>0</td>\n",
       "      <td>0</td>\n",
       "      <td>0</td>\n",
       "      <td>0</td>\n",
       "      <td>0</td>\n",
       "      <td>0</td>\n",
       "    </tr>\n",
       "    <tr>\n",
       "      <th>6</th>\n",
       "      <td>469500</td>\n",
       "      <td>5.95</td>\n",
       "      <td>7042.5</td>\n",
       "      <td>2347.5</td>\n",
       "      <td>23475</td>\n",
       "      <td>27935.2</td>\n",
       "      <td>530300</td>\n",
       "    </tr>\n",
       "    <tr>\n",
       "      <th>7</th>\n",
       "      <td>0</td>\n",
       "      <td>0</td>\n",
       "      <td>0</td>\n",
       "      <td>0</td>\n",
       "      <td>0</td>\n",
       "      <td>0</td>\n",
       "      <td>0</td>\n",
       "    </tr>\n",
       "    <tr>\n",
       "      <th>8</th>\n",
       "      <td>149500</td>\n",
       "      <td>5.95</td>\n",
       "      <td>2242.5</td>\n",
       "      <td>747.5</td>\n",
       "      <td>7475</td>\n",
       "      <td>8895.25</td>\n",
       "      <td>168860</td>\n",
       "    </tr>\n",
       "    <tr>\n",
       "      <th>9</th>\n",
       "      <td>0</td>\n",
       "      <td>0</td>\n",
       "      <td>0</td>\n",
       "      <td>0</td>\n",
       "      <td>0</td>\n",
       "      <td>0</td>\n",
       "      <td>0</td>\n",
       "    </tr>\n",
       "  </tbody>\n",
       "</table>\n",
       "</div>"
      ],
      "text/plain": [
       "  Kaufpreis Provision für Käufer    notar grundbuchamt Grunderwerbsteur  \\\n",
       "0    180000                    0     2700          900             9000   \n",
       "1     89000                 3.57     1335          445             4450   \n",
       "2     62000                    5      930          310             3100   \n",
       "3     96000                 7.14     1440          480             4800   \n",
       "4     84932                 6.96  1273.98       424.66           4246.6   \n",
       "5         0                    0        0            0                0   \n",
       "6    469500                 5.95   7042.5       2347.5            23475   \n",
       "7         0                    0        0            0                0   \n",
       "8    149500                 5.95   2242.5        747.5             7475   \n",
       "9         0                    0        0            0                0   \n",
       "\n",
       "  Provision total_buying_price  \n",
       "0         0             192600  \n",
       "1    3177.3            98407.3  \n",
       "2      3100              69440  \n",
       "3    6854.4             109574  \n",
       "4   5911.27            96788.5  \n",
       "5         0                  0  \n",
       "6   27935.2             530300  \n",
       "7         0                  0  \n",
       "8   8895.25             168860  \n",
       "9         0                  0  "
      ]
     },
     "execution_count": 13,
     "metadata": {},
     "output_type": "execute_result"
    }
   ],
   "source": [
    "df_total_price"
   ]
  },
  {
   "cell_type": "code",
   "execution_count": 14,
   "metadata": {},
   "outputs": [],
   "source": [
    "df_finance = pd.DataFrame(columns = ['eigencapital', 'interestrate', 'mortgage_payment', 'Fremdcapital'])"
   ]
  },
  {
   "cell_type": "code",
   "execution_count": 15,
   "metadata": {},
   "outputs": [],
   "source": [
    "df_finance['eigencapital'] = 0.2 * df_total_price['total_buying_price']"
   ]
  },
  {
   "cell_type": "code",
   "execution_count": 16,
   "metadata": {},
   "outputs": [],
   "source": [
    "df_finance['interestrate'] = (0.01 * 0.8 * df_total_price['total_buying_price'])/12"
   ]
  },
  {
   "cell_type": "code",
   "execution_count": 17,
   "metadata": {},
   "outputs": [],
   "source": [
    "df_finance['mortgage_payment'] = 0.02 * 0.8 * df_total_price['total_buying_price']"
   ]
  },
  {
   "cell_type": "code",
   "execution_count": 18,
   "metadata": {},
   "outputs": [],
   "source": [
    "df_finance['Fremdcapital'] = df_total_price['total_buying_price'] - df_finance['eigencapital']"
   ]
  },
  {
   "cell_type": "code",
   "execution_count": 19,
   "metadata": {},
   "outputs": [],
   "source": [
    "mietindex = 11"
   ]
  },
  {
   "cell_type": "code",
   "execution_count": 20,
   "metadata": {},
   "outputs": [],
   "source": [
    "df_finance['monthly_rent'] = mietindex * df_property_data['Wohnfläche ca.']"
   ]
  },
  {
   "cell_type": "code",
   "execution_count": 21,
   "metadata": {},
   "outputs": [],
   "source": [
    "Nebenkosten_per_sq_m = 0.9 "
   ]
  },
  {
   "cell_type": "code",
   "execution_count": 26,
   "metadata": {},
   "outputs": [
    {
     "data": {
      "text/plain": [
       "0       60\n",
       "1       60\n",
       "2       40\n",
       "3       47\n",
       "4       68\n",
       "5     4758\n",
       "6    14395\n",
       "7     8228\n",
       "8     5214\n",
       "9      928\n",
       "Name: Wohnfläche ca., dtype: object"
      ]
     },
     "execution_count": 26,
     "metadata": {},
     "output_type": "execute_result"
    }
   ],
   "source": [
    "df_property_data['Wohnfläche ca.']"
   ]
  },
  {
   "cell_type": "code",
   "execution_count": 22,
   "metadata": {},
   "outputs": [],
   "source": [
    "df_finance['Nebenkosten'] = Nebenkosten_per_sq_m * df_property_data['Wohnfläche ca.']"
   ]
  },
  {
   "cell_type": "code",
   "execution_count": 23,
   "metadata": {},
   "outputs": [],
   "source": [
    "df_finance['cashflow'] = df_finance['monthly_rent']-df_finance['interestrate']-df_finance['mortgage_payment']-df_finance['Nebenkosten']"
   ]
  },
  {
   "cell_type": "code",
   "execution_count": 24,
   "metadata": {},
   "outputs": [
    {
     "ename": "ZeroDivisionError",
     "evalue": "float division by zero",
     "output_type": "error",
     "traceback": [
      "\u001b[0;31m---------------------------------------------------------------------------\u001b[0m",
      "\u001b[0;31mZeroDivisionError\u001b[0m                         Traceback (most recent call last)",
      "\u001b[0;32m<ipython-input-24-b91defc7aa6c>\u001b[0m in \u001b[0;36m<module>\u001b[0;34m\u001b[0m\n\u001b[0;32m----> 1\u001b[0;31m \u001b[0mdf_finance\u001b[0m\u001b[0;34m[\u001b[0m\u001b[0;34m'ROI'\u001b[0m\u001b[0;34m]\u001b[0m \u001b[0;34m=\u001b[0m \u001b[0;34m(\u001b[0m\u001b[0mdf_finance\u001b[0m\u001b[0;34m[\u001b[0m\u001b[0;34m'cashflow'\u001b[0m\u001b[0;34m]\u001b[0m \u001b[0;34m*\u001b[0m \u001b[0;36m12\u001b[0m\u001b[0;34m)\u001b[0m\u001b[0;34m/\u001b[0m\u001b[0mdf_finance\u001b[0m\u001b[0;34m[\u001b[0m\u001b[0;34m'eigencapital'\u001b[0m\u001b[0;34m]\u001b[0m\u001b[0;34m\u001b[0m\u001b[0;34m\u001b[0m\u001b[0m\n\u001b[0m",
      "\u001b[0;32m~/.local/lib/python3.6/site-packages/pandas/core/ops/common.py\u001b[0m in \u001b[0;36mnew_method\u001b[0;34m(self, other)\u001b[0m\n\u001b[1;32m     62\u001b[0m         \u001b[0mother\u001b[0m \u001b[0;34m=\u001b[0m \u001b[0mitem_from_zerodim\u001b[0m\u001b[0;34m(\u001b[0m\u001b[0mother\u001b[0m\u001b[0;34m)\u001b[0m\u001b[0;34m\u001b[0m\u001b[0;34m\u001b[0m\u001b[0m\n\u001b[1;32m     63\u001b[0m \u001b[0;34m\u001b[0m\u001b[0m\n\u001b[0;32m---> 64\u001b[0;31m         \u001b[0;32mreturn\u001b[0m \u001b[0mmethod\u001b[0m\u001b[0;34m(\u001b[0m\u001b[0mself\u001b[0m\u001b[0;34m,\u001b[0m \u001b[0mother\u001b[0m\u001b[0;34m)\u001b[0m\u001b[0;34m\u001b[0m\u001b[0;34m\u001b[0m\u001b[0m\n\u001b[0m\u001b[1;32m     65\u001b[0m \u001b[0;34m\u001b[0m\u001b[0m\n\u001b[1;32m     66\u001b[0m     \u001b[0;32mreturn\u001b[0m \u001b[0mnew_method\u001b[0m\u001b[0;34m\u001b[0m\u001b[0;34m\u001b[0m\u001b[0m\n",
      "\u001b[0;32m~/.local/lib/python3.6/site-packages/pandas/core/ops/__init__.py\u001b[0m in \u001b[0;36mwrapper\u001b[0;34m(left, right)\u001b[0m\n\u001b[1;32m    501\u001b[0m         \u001b[0mlvalues\u001b[0m \u001b[0;34m=\u001b[0m \u001b[0mextract_array\u001b[0m\u001b[0;34m(\u001b[0m\u001b[0mleft\u001b[0m\u001b[0;34m,\u001b[0m \u001b[0mextract_numpy\u001b[0m\u001b[0;34m=\u001b[0m\u001b[0;32mTrue\u001b[0m\u001b[0;34m)\u001b[0m\u001b[0;34m\u001b[0m\u001b[0;34m\u001b[0m\u001b[0m\n\u001b[1;32m    502\u001b[0m         \u001b[0mrvalues\u001b[0m \u001b[0;34m=\u001b[0m \u001b[0mextract_array\u001b[0m\u001b[0;34m(\u001b[0m\u001b[0mright\u001b[0m\u001b[0;34m,\u001b[0m \u001b[0mextract_numpy\u001b[0m\u001b[0;34m=\u001b[0m\u001b[0;32mTrue\u001b[0m\u001b[0;34m)\u001b[0m\u001b[0;34m\u001b[0m\u001b[0;34m\u001b[0m\u001b[0m\n\u001b[0;32m--> 503\u001b[0;31m         \u001b[0mresult\u001b[0m \u001b[0;34m=\u001b[0m \u001b[0marithmetic_op\u001b[0m\u001b[0;34m(\u001b[0m\u001b[0mlvalues\u001b[0m\u001b[0;34m,\u001b[0m \u001b[0mrvalues\u001b[0m\u001b[0;34m,\u001b[0m \u001b[0mop\u001b[0m\u001b[0;34m,\u001b[0m \u001b[0mstr_rep\u001b[0m\u001b[0;34m)\u001b[0m\u001b[0;34m\u001b[0m\u001b[0;34m\u001b[0m\u001b[0m\n\u001b[0m\u001b[1;32m    504\u001b[0m \u001b[0;34m\u001b[0m\u001b[0m\n\u001b[1;32m    505\u001b[0m         \u001b[0;32mreturn\u001b[0m \u001b[0m_construct_result\u001b[0m\u001b[0;34m(\u001b[0m\u001b[0mleft\u001b[0m\u001b[0;34m,\u001b[0m \u001b[0mresult\u001b[0m\u001b[0;34m,\u001b[0m \u001b[0mindex\u001b[0m\u001b[0;34m=\u001b[0m\u001b[0mleft\u001b[0m\u001b[0;34m.\u001b[0m\u001b[0mindex\u001b[0m\u001b[0;34m,\u001b[0m \u001b[0mname\u001b[0m\u001b[0;34m=\u001b[0m\u001b[0mres_name\u001b[0m\u001b[0;34m)\u001b[0m\u001b[0;34m\u001b[0m\u001b[0;34m\u001b[0m\u001b[0m\n",
      "\u001b[0;32m~/.local/lib/python3.6/site-packages/pandas/core/ops/array_ops.py\u001b[0m in \u001b[0;36marithmetic_op\u001b[0;34m(left, right, op, str_rep)\u001b[0m\n\u001b[1;32m    195\u001b[0m     \u001b[0;32melse\u001b[0m\u001b[0;34m:\u001b[0m\u001b[0;34m\u001b[0m\u001b[0;34m\u001b[0m\u001b[0m\n\u001b[1;32m    196\u001b[0m         \u001b[0;32mwith\u001b[0m \u001b[0mnp\u001b[0m\u001b[0;34m.\u001b[0m\u001b[0merrstate\u001b[0m\u001b[0;34m(\u001b[0m\u001b[0mall\u001b[0m\u001b[0;34m=\u001b[0m\u001b[0;34m\"ignore\"\u001b[0m\u001b[0;34m)\u001b[0m\u001b[0;34m:\u001b[0m\u001b[0;34m\u001b[0m\u001b[0;34m\u001b[0m\u001b[0m\n\u001b[0;32m--> 197\u001b[0;31m             \u001b[0mres_values\u001b[0m \u001b[0;34m=\u001b[0m \u001b[0mna_arithmetic_op\u001b[0m\u001b[0;34m(\u001b[0m\u001b[0mlvalues\u001b[0m\u001b[0;34m,\u001b[0m \u001b[0mrvalues\u001b[0m\u001b[0;34m,\u001b[0m \u001b[0mop\u001b[0m\u001b[0;34m,\u001b[0m \u001b[0mstr_rep\u001b[0m\u001b[0;34m)\u001b[0m\u001b[0;34m\u001b[0m\u001b[0;34m\u001b[0m\u001b[0m\n\u001b[0m\u001b[1;32m    198\u001b[0m \u001b[0;34m\u001b[0m\u001b[0m\n\u001b[1;32m    199\u001b[0m     \u001b[0;32mreturn\u001b[0m \u001b[0mres_values\u001b[0m\u001b[0;34m\u001b[0m\u001b[0;34m\u001b[0m\u001b[0m\n",
      "\u001b[0;32m~/.local/lib/python3.6/site-packages/pandas/core/ops/array_ops.py\u001b[0m in \u001b[0;36mna_arithmetic_op\u001b[0;34m(left, right, op, str_rep)\u001b[0m\n\u001b[1;32m    147\u001b[0m \u001b[0;34m\u001b[0m\u001b[0m\n\u001b[1;32m    148\u001b[0m     \u001b[0;32mtry\u001b[0m\u001b[0;34m:\u001b[0m\u001b[0;34m\u001b[0m\u001b[0;34m\u001b[0m\u001b[0m\n\u001b[0;32m--> 149\u001b[0;31m         \u001b[0mresult\u001b[0m \u001b[0;34m=\u001b[0m \u001b[0mexpressions\u001b[0m\u001b[0;34m.\u001b[0m\u001b[0mevaluate\u001b[0m\u001b[0;34m(\u001b[0m\u001b[0mop\u001b[0m\u001b[0;34m,\u001b[0m \u001b[0mstr_rep\u001b[0m\u001b[0;34m,\u001b[0m \u001b[0mleft\u001b[0m\u001b[0;34m,\u001b[0m \u001b[0mright\u001b[0m\u001b[0;34m)\u001b[0m\u001b[0;34m\u001b[0m\u001b[0;34m\u001b[0m\u001b[0m\n\u001b[0m\u001b[1;32m    150\u001b[0m     \u001b[0;32mexcept\u001b[0m \u001b[0mTypeError\u001b[0m\u001b[0;34m:\u001b[0m\u001b[0;34m\u001b[0m\u001b[0;34m\u001b[0m\u001b[0m\n\u001b[1;32m    151\u001b[0m         \u001b[0mresult\u001b[0m \u001b[0;34m=\u001b[0m \u001b[0mmasked_arith_op\u001b[0m\u001b[0;34m(\u001b[0m\u001b[0mleft\u001b[0m\u001b[0;34m,\u001b[0m \u001b[0mright\u001b[0m\u001b[0;34m,\u001b[0m \u001b[0mop\u001b[0m\u001b[0;34m)\u001b[0m\u001b[0;34m\u001b[0m\u001b[0;34m\u001b[0m\u001b[0m\n",
      "\u001b[0;32m~/.local/lib/python3.6/site-packages/pandas/core/computation/expressions.py\u001b[0m in \u001b[0;36mevaluate\u001b[0;34m(op, op_str, a, b, use_numexpr)\u001b[0m\n\u001b[1;32m    206\u001b[0m     \u001b[0muse_numexpr\u001b[0m \u001b[0;34m=\u001b[0m \u001b[0muse_numexpr\u001b[0m \u001b[0;32mand\u001b[0m \u001b[0m_bool_arith_check\u001b[0m\u001b[0;34m(\u001b[0m\u001b[0mop_str\u001b[0m\u001b[0;34m,\u001b[0m \u001b[0ma\u001b[0m\u001b[0;34m,\u001b[0m \u001b[0mb\u001b[0m\u001b[0;34m)\u001b[0m\u001b[0;34m\u001b[0m\u001b[0;34m\u001b[0m\u001b[0m\n\u001b[1;32m    207\u001b[0m     \u001b[0;32mif\u001b[0m \u001b[0muse_numexpr\u001b[0m\u001b[0;34m:\u001b[0m\u001b[0;34m\u001b[0m\u001b[0;34m\u001b[0m\u001b[0m\n\u001b[0;32m--> 208\u001b[0;31m         \u001b[0;32mreturn\u001b[0m \u001b[0m_evaluate\u001b[0m\u001b[0;34m(\u001b[0m\u001b[0mop\u001b[0m\u001b[0;34m,\u001b[0m \u001b[0mop_str\u001b[0m\u001b[0;34m,\u001b[0m \u001b[0ma\u001b[0m\u001b[0;34m,\u001b[0m \u001b[0mb\u001b[0m\u001b[0;34m)\u001b[0m\u001b[0;34m\u001b[0m\u001b[0;34m\u001b[0m\u001b[0m\n\u001b[0m\u001b[1;32m    209\u001b[0m     \u001b[0;32mreturn\u001b[0m \u001b[0m_evaluate_standard\u001b[0m\u001b[0;34m(\u001b[0m\u001b[0mop\u001b[0m\u001b[0;34m,\u001b[0m \u001b[0mop_str\u001b[0m\u001b[0;34m,\u001b[0m \u001b[0ma\u001b[0m\u001b[0;34m,\u001b[0m \u001b[0mb\u001b[0m\u001b[0;34m)\u001b[0m\u001b[0;34m\u001b[0m\u001b[0;34m\u001b[0m\u001b[0m\n\u001b[1;32m    210\u001b[0m \u001b[0;34m\u001b[0m\u001b[0m\n",
      "\u001b[0;32m~/.local/lib/python3.6/site-packages/pandas/core/computation/expressions.py\u001b[0m in \u001b[0;36m_evaluate_numexpr\u001b[0;34m(op, op_str, a, b)\u001b[0m\n\u001b[1;32m    119\u001b[0m \u001b[0;34m\u001b[0m\u001b[0m\n\u001b[1;32m    120\u001b[0m     \u001b[0;32mif\u001b[0m \u001b[0mresult\u001b[0m \u001b[0;32mis\u001b[0m \u001b[0;32mNone\u001b[0m\u001b[0;34m:\u001b[0m\u001b[0;34m\u001b[0m\u001b[0;34m\u001b[0m\u001b[0m\n\u001b[0;32m--> 121\u001b[0;31m         \u001b[0mresult\u001b[0m \u001b[0;34m=\u001b[0m \u001b[0m_evaluate_standard\u001b[0m\u001b[0;34m(\u001b[0m\u001b[0mop\u001b[0m\u001b[0;34m,\u001b[0m \u001b[0mop_str\u001b[0m\u001b[0;34m,\u001b[0m \u001b[0ma\u001b[0m\u001b[0;34m,\u001b[0m \u001b[0mb\u001b[0m\u001b[0;34m)\u001b[0m\u001b[0;34m\u001b[0m\u001b[0;34m\u001b[0m\u001b[0m\n\u001b[0m\u001b[1;32m    122\u001b[0m \u001b[0;34m\u001b[0m\u001b[0m\n\u001b[1;32m    123\u001b[0m     \u001b[0;32mreturn\u001b[0m \u001b[0mresult\u001b[0m\u001b[0;34m\u001b[0m\u001b[0;34m\u001b[0m\u001b[0m\n",
      "\u001b[0;32m~/.local/lib/python3.6/site-packages/pandas/core/computation/expressions.py\u001b[0m in \u001b[0;36m_evaluate_standard\u001b[0;34m(op, op_str, a, b)\u001b[0m\n\u001b[1;32m     68\u001b[0m         \u001b[0m_store_test_result\u001b[0m\u001b[0;34m(\u001b[0m\u001b[0;32mFalse\u001b[0m\u001b[0;34m)\u001b[0m\u001b[0;34m\u001b[0m\u001b[0;34m\u001b[0m\u001b[0m\n\u001b[1;32m     69\u001b[0m     \u001b[0;32mwith\u001b[0m \u001b[0mnp\u001b[0m\u001b[0;34m.\u001b[0m\u001b[0merrstate\u001b[0m\u001b[0;34m(\u001b[0m\u001b[0mall\u001b[0m\u001b[0;34m=\u001b[0m\u001b[0;34m\"ignore\"\u001b[0m\u001b[0;34m)\u001b[0m\u001b[0;34m:\u001b[0m\u001b[0;34m\u001b[0m\u001b[0;34m\u001b[0m\u001b[0m\n\u001b[0;32m---> 70\u001b[0;31m         \u001b[0;32mreturn\u001b[0m \u001b[0mop\u001b[0m\u001b[0;34m(\u001b[0m\u001b[0ma\u001b[0m\u001b[0;34m,\u001b[0m \u001b[0mb\u001b[0m\u001b[0;34m)\u001b[0m\u001b[0;34m\u001b[0m\u001b[0;34m\u001b[0m\u001b[0m\n\u001b[0m\u001b[1;32m     71\u001b[0m \u001b[0;34m\u001b[0m\u001b[0m\n\u001b[1;32m     72\u001b[0m \u001b[0;34m\u001b[0m\u001b[0m\n",
      "\u001b[0;31mZeroDivisionError\u001b[0m: float division by zero"
     ]
    }
   ],
   "source": [
    "df_finance['ROI'] = (df_finance['cashflow'] * 12)/df_finance['eigencapital'] "
   ]
  },
  {
   "cell_type": "code",
   "execution_count": 25,
   "metadata": {},
   "outputs": [
    {
     "data": {
      "text/html": [
       "<div>\n",
       "<style scoped>\n",
       "    .dataframe tbody tr th:only-of-type {\n",
       "        vertical-align: middle;\n",
       "    }\n",
       "\n",
       "    .dataframe tbody tr th {\n",
       "        vertical-align: top;\n",
       "    }\n",
       "\n",
       "    .dataframe thead th {\n",
       "        text-align: right;\n",
       "    }\n",
       "</style>\n",
       "<table border=\"1\" class=\"dataframe\">\n",
       "  <thead>\n",
       "    <tr style=\"text-align: right;\">\n",
       "      <th></th>\n",
       "      <th>eigencapital</th>\n",
       "      <th>interestrate</th>\n",
       "      <th>mortgage_payment</th>\n",
       "      <th>Fremdcapital</th>\n",
       "      <th>monthly_rent</th>\n",
       "      <th>Nebenkosten</th>\n",
       "      <th>cashflow</th>\n",
       "    </tr>\n",
       "  </thead>\n",
       "  <tbody>\n",
       "    <tr>\n",
       "      <th>5</th>\n",
       "      <td>0</td>\n",
       "      <td>0</td>\n",
       "      <td>0</td>\n",
       "      <td>0</td>\n",
       "      <td>52338</td>\n",
       "      <td>4282.2</td>\n",
       "      <td>48055.8</td>\n",
       "    </tr>\n",
       "    <tr>\n",
       "      <th>6</th>\n",
       "      <td>106060</td>\n",
       "      <td>353.534</td>\n",
       "      <td>8484.8</td>\n",
       "      <td>424240</td>\n",
       "      <td>158345</td>\n",
       "      <td>12955.5</td>\n",
       "      <td>136551</td>\n",
       "    </tr>\n",
       "    <tr>\n",
       "      <th>7</th>\n",
       "      <td>0</td>\n",
       "      <td>0</td>\n",
       "      <td>0</td>\n",
       "      <td>0</td>\n",
       "      <td>90508</td>\n",
       "      <td>7405.2</td>\n",
       "      <td>83102.8</td>\n",
       "    </tr>\n",
       "    <tr>\n",
       "      <th>8</th>\n",
       "      <td>33772.1</td>\n",
       "      <td>112.574</td>\n",
       "      <td>2701.76</td>\n",
       "      <td>135088</td>\n",
       "      <td>57354</td>\n",
       "      <td>4692.6</td>\n",
       "      <td>49847.1</td>\n",
       "    </tr>\n",
       "    <tr>\n",
       "      <th>9</th>\n",
       "      <td>0</td>\n",
       "      <td>0</td>\n",
       "      <td>0</td>\n",
       "      <td>0</td>\n",
       "      <td>10208</td>\n",
       "      <td>835.2</td>\n",
       "      <td>9372.8</td>\n",
       "    </tr>\n",
       "  </tbody>\n",
       "</table>\n",
       "</div>"
      ],
      "text/plain": [
       "  eigencapital interestrate mortgage_payment Fremdcapital monthly_rent  \\\n",
       "5            0            0                0            0        52338   \n",
       "6       106060      353.534           8484.8       424240       158345   \n",
       "7            0            0                0            0        90508   \n",
       "8      33772.1      112.574          2701.76       135088        57354   \n",
       "9            0            0                0            0        10208   \n",
       "\n",
       "  Nebenkosten cashflow  \n",
       "5      4282.2  48055.8  \n",
       "6     12955.5   136551  \n",
       "7      7405.2  83102.8  \n",
       "8      4692.6  49847.1  \n",
       "9       835.2   9372.8  "
      ]
     },
     "execution_count": 25,
     "metadata": {},
     "output_type": "execute_result"
    }
   ],
   "source": [
    "df_finance[df_finance['cashflow'] > 0]"
   ]
  },
  {
   "cell_type": "code",
   "execution_count": null,
   "metadata": {},
   "outputs": [],
   "source": []
  }
 ],
 "metadata": {
  "kernelspec": {
   "display_name": "Python 3",
   "language": "python",
   "name": "python3"
  },
  "language_info": {
   "codemirror_mode": {
    "name": "ipython",
    "version": 3
   },
   "file_extension": ".py",
   "mimetype": "text/x-python",
   "name": "python",
   "nbconvert_exporter": "python",
   "pygments_lexer": "ipython3",
   "version": "3.6.9"
  }
 },
 "nbformat": 4,
 "nbformat_minor": 4
}
