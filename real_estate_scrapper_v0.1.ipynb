{
 "cells": [
  {
   "cell_type": "markdown",
   "metadata": {},
   "source": [
    "# Real estate ROI calculator "
   ]
  },
  {
   "cell_type": "markdown",
   "metadata": {},
   "source": [
    "## Configurables\n",
    "Change your url and location here"
   ]
  },
  {
   "cell_type": "code",
   "execution_count": 1,
   "metadata": {
    "tags": []
   },
   "outputs": [],
   "source": [
    "# to automatically reload imports from our own modules\n",
    "%load_ext autoreload\n",
    "%autoreload 2\n",
    "\n",
    "import datetime\n",
    "import urllib.request\n",
    "import scrapy\n",
    "from scrapy.crawler import CrawlerProcess\n",
    "from scrapy import Selector\n",
    "import selenium\n",
    "from selenium import webdriver\n",
    "import chromedriver_binary\n",
    "from webdriver_manager.chrome import ChromeDriverManager\n",
    "from selenium.webdriver.chrome.options import Options\n",
    "import pandas as pd\n",
    "pd.set_option('display.max_columns', 100)\n",
    "pd.set_option('display.max_colwidth', 200)\n",
    "\n",
    "import json\n",
    "import re\n",
    "import numpy as np\n",
    "from crochet import setup\n",
    "\n",
    "from matplotlib import pyplot as plt\n",
    "#%matplotlib inline\n",
    "\n",
    "import seaborn as sns\n",
    "\n",
    "#Replace this url with the url of your search results\n",
    "#url = 'https://www.immobilienscout24.de/Suche/de/berlin/berlin/wohnung-kaufen?enteredFrom=one_step_search'\n",
    "# state/city\n",
    "location = \"berlin/berlin\" \n",
    "location = \"baden-wuerttemberg/pforzheim\"\n",
    "location = \"niedersachsen/lueneburg-kreis\"\n",
    "location = \"hessen/bergstrasse-kreis\"\n",
    "location = \"hessen/darmstadt-dieburg-kreis\"\n",
    "location = \"baden-wuerttemberg\"\n",
    "location = \"baden-wuerttemberg/mannheim\"\n",
    "location = \"bayern/fuerth-kreis\"\n",
    "\n",
    "# location = \"sachsen-anhalt/magdeburg\"\n",
    "propertyType = 'wohnung'\n",
    "# url_to_crawl = 'https://www.immobilienscout24.de/Suche/de/rheinland-pfalz/alzey-worms-kreis/wohnung-kaufen?enteredFrom=result_list'\n",
    "# TODO build URLS that can also check 50km around\n",
    "# https://www.immobilienscout24.de/Suche/radius/wohnung-kaufen?centerofsearchaddress=Heidelberg;;;1276001014;Baden-W%C3%BCrttemberg;&price=-150000.0&geocoordinates=49.40589;8.68357;50.0&enteredFrom=one_step_search\n",
    "\n",
    "price_max = '150000'\n",
    "\n",
    "# TOOD get more precise URLs\n",
    "url_to_crawl = 'https://www.immobilienscout24.de/Suche/de/' + location + '/'+propertyType+'-kaufen?' # price=-'+price_max+'&enteredFrom=result_list'\n",
    "\n",
    "actualDate = datetime.date.today()\n",
    "actualDate = actualDate.strftime('%Y-%m-%d')\n",
    "city = location.split('/')[1] if len(location.split('/')) > 1 else location\n",
    "file_name_csv = 'immobilienscout_result_' + city + '_' + actualDate + '.csv'\n",
    "file_folder = 'd:/data'\n",
    "file_folder_raw = file_folder + '/raw/'\n",
    "file_folder_interim = file_folder + '/interim/'\n",
    "file_path_raw = file_folder_raw + file_name_csv\n",
    "file_path_interim = file_folder_interim + file_name_csv\n",
    "\n",
    "# Your variables to change\n",
    "rent_price_index = 9\n",
    "equity_percentage = 0.20\n",
    "interest_rate = 0.01\n",
    "mortgage_payment_rate = 0.02\n",
    "equity_max = 30000\n",
    "has_foreclosure = False\n",
    "\n",
    "# Standard percentages\n",
    "notary_percentage = 0.015\n",
    "transfer_tax_percentage = 0.05\n",
    "land_registry_tax_percentage = 0.005\n",
    "additional_costs_rate_per_m2 = 0.9 "
   ]
  },
  {
   "cell_type": "code",
   "execution_count": 2,
   "metadata": {},
   "outputs": [],
   "source": [
    "req = urllib.request.Request(\n",
    "              url_to_crawl, \n",
    "              data=None, \n",
    "              headers={'User-Agent': 'Mozilla/5.0 (Macintosh; Intel Mac OS X 10_9_3) AppleWebKit/537.36 (KHTML, like Gecko) Chrome/35.0.1916.47 Safari/537.36'})\n",
    "\n",
    "first_page = urllib.request.urlopen(req)"
   ]
  },
  {
   "cell_type": "code",
   "execution_count": 15,
   "metadata": {
    "tags": []
   },
   "outputs": [
    {
     "output_type": "stream",
     "name": "stdout",
     "text": "en-US\nar\nar-LB\nen-US;q=0.5,ar\nen-US;q=0.1,ar-LB\nar;q=0.4,ar-LB\nen-US;q=0.0,ar;q=0.7,ar-LB\n"
    }
   ],
   "source": []
  },
  {
   "cell_type": "code",
   "execution_count": 16,
   "metadata": {},
   "outputs": [],
   "source": []
  },
  {
   "cell_type": "code",
   "execution_count": 5,
   "metadata": {
    "tags": []
   },
   "outputs": [
    {
     "output_type": "error",
     "ename": "ModuleNotFoundError",
     "evalue": "No module named 'src.data.make_dataset.Scrap_immobilienscout'; 'src.data.make_dataset' is not a package",
     "traceback": [
      "\u001b[0;31m---------------------------------------------------------------------------\u001b[0m",
      "\u001b[0;31mModuleNotFoundError\u001b[0m                       Traceback (most recent call last)",
      "\u001b[0;32m<ipython-input-5-ada99568d317>\u001b[0m in \u001b[0;36m<module>\u001b[0;34m\u001b[0m\n\u001b[1;32m      1\u001b[0m \u001b[0;32mimport\u001b[0m \u001b[0msrc\u001b[0m\u001b[0;34m.\u001b[0m\u001b[0mdata\u001b[0m\u001b[0;34m.\u001b[0m\u001b[0mmake_dataset\u001b[0m\u001b[0;34m\u001b[0m\u001b[0;34m\u001b[0m\u001b[0m\n\u001b[0;32m----> 2\u001b[0;31m \u001b[0;32mimport\u001b[0m \u001b[0msrc\u001b[0m\u001b[0;34m.\u001b[0m\u001b[0mdata\u001b[0m\u001b[0;34m.\u001b[0m\u001b[0mmake_dataset\u001b[0m\u001b[0;34m.\u001b[0m\u001b[0mScrap_immobilienscout\u001b[0m \u001b[0;32mas\u001b[0m \u001b[0mScrap_immobilienscout\u001b[0m\u001b[0;34m\u001b[0m\u001b[0;34m\u001b[0m\u001b[0m\n\u001b[0m\u001b[1;32m      3\u001b[0m \u001b[0;34m\u001b[0m\u001b[0m\n\u001b[1;32m      4\u001b[0m \u001b[0;31m# DEBUG\u001b[0m\u001b[0;34m\u001b[0m\u001b[0;34m\u001b[0m\u001b[0;34m\u001b[0m\u001b[0m\n\u001b[1;32m      5\u001b[0m \u001b[0mprocess\u001b[0m \u001b[0;34m=\u001b[0m \u001b[0mCrawlerProcess\u001b[0m\u001b[0;34m(\u001b[0m\u001b[0;34m)\u001b[0m\u001b[0;34m\u001b[0m\u001b[0;34m\u001b[0m\u001b[0m\n",
      "\u001b[0;31mModuleNotFoundError\u001b[0m: No module named 'src.data.make_dataset.Scrap_immobilienscout'; 'src.data.make_dataset' is not a package"
     ]
    }
   ],
   "source": [
    "import src.data.make_dataset"
   ]
  },
  {
   "cell_type": "code",
   "execution_count": 11,
   "metadata": {
    "scrolled": true,
    "tags": []
   },
   "outputs": [
    {
     "output_type": "stream",
     "name": "stderr",
     "text": "2020-08-17 21:53:16 [matplotlib.pyplot] DEBUG: Loaded backend module://ipykernel.pylab.backend_inline version unknown.\n2020-08-17 21:53:16 [scrapy.utils.log] INFO: Scrapy 2.2.0 started (bot: scrapybot)\n2020-08-17 21:53:16 [scrapy.utils.log] INFO: Versions: lxml 4.5.2.0, libxml2 2.9.10, cssselect 1.1.0, parsel 1.6.0, w3lib 1.22.0, Twisted 20.3.0, Python 3.7.4 (default, Sep  7 2019, 18:27:02) - [Clang 10.0.1 (clang-1001.0.46.4)], pyOpenSSL 19.1.0 (OpenSSL 1.1.1g  21 Apr 2020), cryptography 2.9.2, Platform Darwin-18.7.0-x86_64-i386-64bit\n2020-08-17 21:53:16 [scrapy.utils.log] DEBUG: Using reactor: twisted.internet.selectreactor.SelectReactor\n2020-08-17 21:53:16 [scrapy.crawler] INFO: Overridden settings:\n{}\n2020-08-17 21:53:16 [scrapy.extensions.telnet] INFO: Telnet Password: 19fa0aa1a35d4ec4\n2020-08-17 21:53:16 [scrapy.middleware] INFO: Enabled extensions:\n['scrapy.extensions.corestats.CoreStats',\n 'scrapy.extensions.telnet.TelnetConsole',\n 'scrapy.extensions.memusage.MemoryUsage',\n 'scrapy.extensions.logstats.LogStats']\n2020-08-17 21:53:16 [scrapy.middleware] INFO: Enabled downloader middlewares:\n['scrapy.downloadermiddlewares.httpauth.HttpAuthMiddleware',\n 'scrapy.downloadermiddlewares.downloadtimeout.DownloadTimeoutMiddleware',\n 'scrapy.downloadermiddlewares.defaultheaders.DefaultHeadersMiddleware',\n 'scrapy.downloadermiddlewares.useragent.UserAgentMiddleware',\n 'scrapy.downloadermiddlewares.retry.RetryMiddleware',\n 'scrapy.downloadermiddlewares.redirect.MetaRefreshMiddleware',\n 'scrapy.downloadermiddlewares.httpcompression.HttpCompressionMiddleware',\n 'scrapy.downloadermiddlewares.redirect.RedirectMiddleware',\n 'scrapy.downloadermiddlewares.cookies.CookiesMiddleware',\n 'scrapy.downloadermiddlewares.httpproxy.HttpProxyMiddleware',\n 'scrapy.downloadermiddlewares.stats.DownloaderStats']\n2020-08-17 21:53:16 [scrapy.middleware] INFO: Enabled spider middlewares:\n['scrapy.spidermiddlewares.httperror.HttpErrorMiddleware',\n 'scrapy.spidermiddlewares.offsite.OffsiteMiddleware',\n 'scrapy.spidermiddlewares.referer.RefererMiddleware',\n 'scrapy.spidermiddlewares.urllength.UrlLengthMiddleware',\n 'scrapy.spidermiddlewares.depth.DepthMiddleware']\n2020-08-17 21:53:16 [scrapy.middleware] INFO: Enabled item pipelines:\n[]\n2020-08-17 21:53:16 [scrapy.core.engine] INFO: Spider opened\n2020-08-17 21:53:16 [scrapy.extensions.logstats] INFO: Crawled 0 pages (at 0 pages/min), scraped 0 items (at 0 items/min)\n2020-08-17 21:53:16 [scrapy.extensions.telnet] INFO: Telnet console listening on 127.0.0.1:6023\n2020-08-17 21:53:16 [scrapy.core.engine] ERROR: Error while obtaining start requests\nTraceback (most recent call last):\n  File \"/Users/deniel.horvatic/repository/private/liveAI/venv/lib/python3.7/site-packages/scrapy/core/engine.py\", line 129, in _next_request\n    request = next(slot.start_requests)\n  File \"<ipython-input-11-b62d166ef22e>\", line 101, in start_requests\n    \"User-Agent\": ua.random,\nNameError: name 'ua' is not defined\n2020-08-17 21:53:16 [scrapy.core.engine] INFO: Closing spider (finished)\n2020-08-17 21:53:16 [scrapy.statscollectors] INFO: Dumping Scrapy stats:\n{'elapsed_time_seconds': 0.030427,\n 'finish_reason': 'finished',\n 'finish_time': datetime.datetime(2020, 8, 17, 19, 53, 16, 856764),\n 'log_count/ERROR': 1,\n 'log_count/INFO': 10,\n 'memusage/max': 581562368,\n 'memusage/startup': 581562368,\n 'start_time': datetime.datetime(2020, 8, 17, 19, 53, 16, 826337)}\n2020-08-17 21:53:16 [scrapy.core.engine] INFO: Spider closed (finished)\n"
    }
   ],
   "source": []
  },
  {
   "cell_type": "code",
   "execution_count": 10,
   "metadata": {
    "scrolled": true
   },
   "outputs": [
    {
     "output_type": "execute_result",
     "data": {
      "text/plain": "Empty DataFrame\nColumns: [url, title, address, region, contact_person, telephone, mobile, fax, price_purchase, estimated_monthly_rate, rooms, living_area_m2, furnishing, flat_type, floor, floor_total, bedrooms, commission_buyer_rate, maintenance_cost, construction_year, object_state, heating_type, energy_efficiency_class, location, other_information]\nIndex: []",
      "text/html": "<div>\n<style scoped>\n    .dataframe tbody tr th:only-of-type {\n        vertical-align: middle;\n    }\n\n    .dataframe tbody tr th {\n        vertical-align: top;\n    }\n\n    .dataframe thead th {\n        text-align: right;\n    }\n</style>\n<table border=\"1\" class=\"dataframe\">\n  <thead>\n    <tr style=\"text-align: right;\">\n      <th></th>\n      <th>url</th>\n      <th>title</th>\n      <th>address</th>\n      <th>region</th>\n      <th>contact_person</th>\n      <th>telephone</th>\n      <th>mobile</th>\n      <th>fax</th>\n      <th>price_purchase</th>\n      <th>estimated_monthly_rate</th>\n      <th>rooms</th>\n      <th>living_area_m2</th>\n      <th>furnishing</th>\n      <th>flat_type</th>\n      <th>floor</th>\n      <th>floor_total</th>\n      <th>bedrooms</th>\n      <th>commission_buyer_rate</th>\n      <th>maintenance_cost</th>\n      <th>construction_year</th>\n      <th>object_state</th>\n      <th>heating_type</th>\n      <th>energy_efficiency_class</th>\n      <th>location</th>\n      <th>other_information</th>\n    </tr>\n  </thead>\n  <tbody>\n  </tbody>\n</table>\n</div>"
     },
     "metadata": {},
     "execution_count": 10
    }
   ],
   "source": [
    "df_raw"
   ]
  },
  {
   "cell_type": "code",
   "execution_count": null,
   "metadata": {},
   "outputs": [],
   "source": [
    "df_raw[df_raw.url=='https://www.immobilienscout24.de/expose/114720606#/']"
   ]
  },
  {
   "cell_type": "code",
   "execution_count": null,
   "metadata": {},
   "outputs": [],
   "source": [
    "import requests\n",
    "\n",
    "URL= 'https://www.immobilienscout24.de/expose/116390632#/'\n",
    "headers= {\n",
    "\"Accept\": \"text/html,application/xhtml+xml,application/xml;q=0.9,image/webp,image/apng,*/*;q=0.8,application/signed-exchange;v=b3;q=0.9\", \n",
    "\"Accept-Encoding\": \"gzip, deflate, br\", \n",
    "\"Accept-Language\": \"en-US,en;q=0.9,ar-SA;q=0.8,ar;q=0.7\", \n",
    "\"Referer\": base_url, \n",
    "    \n",
    "\"User-Agent\": \"Mozilla/5.0 (Windows NT 10.0; Win64; x64) AppleWebKit/537.36 (KHTML, like Gecko) Chrome/84.0.4147.105 Safari/537.36\", \n",
    "}\n",
    "\n",
    "\n",
    "\n",
    "session= requests.Session()\n",
    "response= session.get(URL, headers= headers, allow_redirects=True)\n"
   ]
  },
  {
   "cell_type": "code",
   "execution_count": null,
   "metadata": {},
   "outputs": [],
   "source": [
    "response.text"
   ]
  },
  {
   "cell_type": "code",
   "execution_count": null,
   "metadata": {},
   "outputs": [],
   "source": [
    "from fake_useragent import UserAgent\n",
    "ua = UserAgent()"
   ]
  },
  {
   "cell_type": "code",
   "execution_count": null,
   "metadata": {},
   "outputs": [],
   "source": []
  },
  {
   "cell_type": "code",
   "execution_count": null,
   "metadata": {},
   "outputs": [],
   "source": [
    "url = 'https://www.immobilienscout24.de/Suche/de/berlin/berlin/wohnung-kaufen?&pagenumber=1'\n",
    "scrapy.Request(url)"
   ]
  },
  {
   "cell_type": "code",
   "execution_count": null,
   "metadata": {
    "scrolled": true
   },
   "outputs": [],
   "source": [
    "df_raw"
   ]
  },
  {
   "cell_type": "markdown",
   "metadata": {},
   "source": [
    "## Data Preparation "
   ]
  },
  {
   "cell_type": "code",
   "execution_count": null,
   "metadata": {},
   "outputs": [],
   "source": []
  },
  {
   "cell_type": "code",
   "execution_count": null,
   "metadata": {},
   "outputs": [],
   "source": [
    "# Read CSV again\n",
    "file_path_raw_selected = ''\n",
    "file_path_raw = file_path_raw_selected if file_path_raw_selected != '' else file_path_raw\n",
    "df_raw = pd.read_csv(file_path_raw)"
   ]
  },
  {
   "cell_type": "code",
   "execution_count": null,
   "metadata": {},
   "outputs": [],
   "source": [
    "## Parser\n",
    "def parse_expose_id(url):\n",
    "    id = url.split('/')[-2]\n",
    "    return id\n",
    "\n",
    "def parse_address(address, region):\n",
    "    address = address.strip() if address is not None else ''\n",
    "    address += ' ' + region if region is not None else ''\n",
    "    return address\n",
    "\n",
    "def parse_contact_person(contact_person):\n",
    "    return contact_person if contact_person is not None else ''\n",
    "\n",
    "def parse_telefon(telefon):\n",
    "    return telefon[0].replace(' ', '') if len(telefon) > 0 else None\n",
    "\n",
    "def parse_mobile(mobile): \n",
    "    mobile = mobile[0] if len(mobile) > 0 else ''\n",
    "    return mobile.replace(' ', '')\n",
    "\n",
    "def parse_fax(fax):\n",
    "    fax = fax[0] if len(fax) > 0 else ''\n",
    "    return fax.replace(' ', '')\n",
    "\n",
    "def parse_price(price):\n",
    "    price = re.sub('[^0-9]\\s*', '', str(price)) if price else 0\n",
    "    return int(price) if price is not '' else 0\n",
    "\n",
    "def parse_estimated_monthly_rate(estimated_monthly_rate):\n",
    "    estimated_monthly_rate = re.sub('[^0-9]', '', str(estimated_monthly_rate)) if estimated_monthly_rate else 0\n",
    "    return int(estimated_monthly_rate) if estimated_monthly_rate is not '' else 0\n",
    "\n",
    "def parse_commision(commission):\n",
    "    if commission is not None:\n",
    "        try:\n",
    "            commission = re.search('[0-9]+,?[0-9]*', commission).group() \n",
    "        except:\n",
    "            commission = ''\n",
    "    else:\n",
    "        commission = ''\n",
    "\n",
    "    commission = commission.replace(',', '.')\n",
    "    return float(commission) if len(commission) > 0 else 0\n",
    "\n",
    "def parse_rooms_count(rooms_count):\n",
    "    return float(str(rooms_count).replace(\" \",\"\").replace(\",\",\".\") ) if rooms_count is not None else 0\n",
    "\n",
    "def parse_living_area(living_area):\n",
    "    living_area = re.sub('[^0-9\\.]', '', str(living_area).replace(\",\",\".\")) if living_area is not None else 0\n",
    "    return float(living_area) if living_area else 0\n",
    "\n",
    "def parse_furnishing(furnishing):\n",
    "    print(furnishing)\n",
    "    furnishing = list(set(furnishing))\n",
    "    furnishing = [t for t in furnishing if t != ' ']\n",
    "    print(furnishing)\n",
    "    return furnishing if len(furnishing) > 0 else ''\n",
    "\n",
    "def parse_bedroom(bedroom):\n",
    "    bedroom = re.sub('[^0-9]', '', str(bedroom)) if bedroom is not None else 0\n",
    "    return int(bedroom) if bedroom else 0\n",
    "\n",
    "def parse_allowance(allowance):\n",
    "    allowance = re.sub('[^0-9]', '', str(allowance)) if allowance is not None else 0\n",
    "    return int(allowance) if allowance else 0\n",
    "\n",
    "def parse_energy_efficiency_class(energy_efficiency_class):\n",
    "    return energy_efficiency_class if energy_efficiency_class is not None else ''"
   ]
  },
  {
   "cell_type": "code",
   "execution_count": null,
   "metadata": {
    "tags": []
   },
   "outputs": [],
   "source": [
    "df_base = df_raw.copy()\n",
    "# TODO clarify default values\n",
    "# TODO fix parse issues (int, roundings, etc.)\n",
    "# TODO fix address\n",
    "# df_base['address'] = df_base.apply(lambda x: parse_address(x['address'], x['region']) if x.name in ['address'] else x)\n",
    "df_base['id_expose'] = df_base['url'].apply(parse_expose_id)\n",
    "df_base['contact_person'] = df_base['contact_person'].apply(parse_contact_person)\n",
    "df_base['telephone'] = df_base['telephone'].apply(parse_telefon)\n",
    "df_base['mobile'] = df_base['mobile'].apply(parse_mobile)\n",
    "df_base['fax'] = df_base['fax'].apply(parse_fax)\n",
    "df_base['price_purchase'] = df_base['price_purchase'].apply(parse_price)\n",
    "df_base['commission_buyer_rate'] = df_base['commission_buyer_rate'].apply(parse_commision)\n",
    "df_base['estimated_monthly_rate'] = df_base['estimated_monthly_rate'].apply(parse_estimated_monthly_rate)\n",
    "df_base['rooms'] = df_base['rooms'].apply(parse_rooms_count)\n",
    "df_base['living_area_m2'] = df_base['living_area_m2'].apply(parse_living_area)\n",
    "# df_base['furnishing'] = df_base['furnishing'].apply(parse_furnishing) # seems to be unecessary\n",
    "df_base['bedrooms'] = df_base['bedrooms'].apply(parse_bedroom)\n",
    "df_base['maintenance_cost'] = df_base['maintenance_cost'].apply(parse_allowance)\n",
    "df_base['energy_efficiency_class'] = df_base['energy_efficiency_class'].apply(parse_energy_efficiency_class)\n"
   ]
  },
  {
   "cell_type": "code",
   "execution_count": null,
   "metadata": {},
   "outputs": [],
   "source": [
    "df_base"
   ]
  },
  {
   "cell_type": "markdown",
   "metadata": {},
   "source": [
    "## Exploration"
   ]
  },
  {
   "cell_type": "code",
   "execution_count": null,
   "metadata": {},
   "outputs": [],
   "source": [
    "# dataframe dimensions\n",
    "df_base.shape"
   ]
  },
  {
   "cell_type": "code",
   "execution_count": null,
   "metadata": {},
   "outputs": [],
   "source": [
    "# column datatypes\n",
    "df_base.dtypes"
   ]
  },
  {
   "cell_type": "code",
   "execution_count": null,
   "metadata": {},
   "outputs": [],
   "source": [
    "df_base.select_dtypes(include=['object']).isnull().sum()"
   ]
  },
  {
   "cell_type": "code",
   "execution_count": null,
   "metadata": {},
   "outputs": [],
   "source": [
    "df_base.head(10)\n",
    "#df_base['url'][4]\n",
    "#df[0:5]\n",
    "#df.tail()"
   ]
  },
  {
   "cell_type": "code",
   "execution_count": null,
   "metadata": {},
   "outputs": [],
   "source": [
    "# TODO transform into numerical values for historgrams\n",
    "# df_base.hist(xrot=-45, figsize=(14,14))"
   ]
  },
  {
   "cell_type": "code",
   "execution_count": null,
   "metadata": {},
   "outputs": [],
   "source": [
    "df_base.describe()"
   ]
  },
  {
   "cell_type": "code",
   "execution_count": null,
   "metadata": {},
   "outputs": [],
   "source": [
    "df_base.describe(include='object')"
   ]
  },
  {
   "cell_type": "code",
   "execution_count": null,
   "metadata": {
    "tags": []
   },
   "outputs": [],
   "source": [
    "# TODO fix usage of list\n",
    "# TODO data needs to be fixed\n",
    "for features in df_base.dtypes[df_base.dtypes == 'object'].index:\n",
    "    sns.countplot(y=features, data=df_base)\n",
    "    plt.show()"
   ]
  },
  {
   "cell_type": "markdown",
   "metadata": {},
   "source": [
    "## Data argmentation\n",
    "Goal is to calculate the yearly ROI"
   ]
  },
  {
   "cell_type": "code",
   "execution_count": null,
   "metadata": {},
   "outputs": [],
   "source": [
    "df_finance = df_base[['url','price_purchase', 'living_area_m2', 'commission_buyer_rate']]\n",
    "df_finance['is_foreclosure'] = df_base['other_information'].str.contains('Zwangsversteigerung', na = False)\n",
    "df_finance['price_per_m2'] = df_finance['price_purchase'] / df_finance['living_area_m2']\n",
    "df_finance['notary_costs'] = notary_percentage * df_finance['price_purchase']\n",
    "\n",
    "df_finance['land_registry_tax'] = land_registry_tax_percentage * df_finance['price_purchase']\n",
    "df_finance['real_estate_transfer_tax'] = transfer_tax_percentage * df_finance['price_purchase']\n",
    "df_finance['commission'] = df_finance['price_purchase'] * df_finance['commission_buyer_rate'] * 0.01 # TODO fix while parsing from scraper already\n",
    "df_finance['total_buying_price'] = df_finance['price_purchase'] + df_finance['notary_costs'] + df_finance['land_registry_tax'] + df_finance['real_estate_transfer_tax'] + df_finance['commission']\n",
    "df_finance['equity'] = equity_percentage * df_finance['total_buying_price']\n",
    "df_finance['debt'] = df_finance['total_buying_price'] - df_finance['equity']\n",
    "df_finance['interest_rate_monthly'] = interest_rate * df_finance['debt'] / 12\n",
    "df_finance['mortgage_payment_yearly'] = mortgage_payment_rate * df_finance['debt']\n",
    "df_finance['mortgage_payment_monthly'] = df_finance['mortgage_payment_yearly'] / 12\n",
    "df_finance['monthly_rent'] = rent_price_index * df_finance['living_area_m2']\n",
    "df_finance['additional_costs'] = additional_costs_rate_per_m2 * df_finance['living_area_m2']\n",
    "df_finance['cashflow'] = df_finance['monthly_rent'] - df_finance['interest_rate_monthly'] - df_finance['mortgage_payment_monthly'] - df_finance['additional_costs']\n",
    "df_finance['ROI'] = (df_finance['cashflow'] * 12) / df_finance['equity'] \n",
    "\n",
    "\n",
    "\n"
   ]
  },
  {
   "cell_type": "markdown",
   "metadata": {},
   "source": [
    "## Data Evaluation"
   ]
  },
  {
   "cell_type": "code",
   "execution_count": null,
   "metadata": {},
   "outputs": [],
   "source": [
    "# TODO Put every step into CSV\n",
    "# Read CSV again\n",
    "# file_path_interim_selected = ''\n",
    "# file_path_interim = file_path_interim_selected if file_path_interim_selected != '' else file_path_interim\n",
    "# df_finance = pd.read_csv(file_path_raw)"
   ]
  },
  {
   "cell_type": "code",
   "execution_count": null,
   "metadata": {},
   "outputs": [],
   "source": [
    "df_interim = df_finance.copy()\n",
    "df_interim = df_interim.sort_values(by=['ROI'], ascending=False)\n",
    "df_interim.to_csv(file_path_interim, index=False)"
   ]
  },
  {
   "cell_type": "code",
   "execution_count": null,
   "metadata": {},
   "outputs": [],
   "source": [
    "if has_foreclosure:\n",
    "    # df_finance = df_finance[df_finance['is_foreclosure']] \n",
    "    None\n",
    "else:\n",
    "    df_finance = df_finance[df_finance['is_foreclosure'] == False] \n"
   ]
  },
  {
   "cell_type": "code",
   "execution_count": null,
   "metadata": {},
   "outputs": [],
   "source": [
    "df_finance.sort_values(by=['ROI'], ascending=False)"
   ]
  },
  {
   "cell_type": "code",
   "execution_count": null,
   "metadata": {},
   "outputs": [],
   "source": [
    "df_finance[(df_finance['cashflow'] > 0) ].sort_values(by=['ROI'], ascending=False).head(20)"
   ]
  },
  {
   "cell_type": "code",
   "execution_count": null,
   "metadata": {},
   "outputs": [],
   "source": [
    "df_finance[(df_finance['cashflow'] > 0) & (df_finance['equity'] <= equity_max)].sort_values(by=['ROI'], ascending=False)[30:40]"
   ]
  },
  {
   "cell_type": "code",
   "execution_count": null,
   "metadata": {},
   "outputs": [],
   "source": []
  },
  {
   "cell_type": "code",
   "execution_count": null,
   "metadata": {},
   "outputs": [],
   "source": []
  },
  {
   "cell_type": "code",
   "execution_count": null,
   "metadata": {},
   "outputs": [],
   "source": [
    "url = \"https://www.immobilienscout24.de/Suche/de/berlin/berlin/wohnung-kaufen?\"\n",
    "import urllib.request\n",
    "req = urllib.request.Request(\n",
    "      url, \n",
    "      data=None, \n",
    "      headers={'User-Agent': 'Mozilla/5.0 (Macintosh; Intel Mac OS X 10_9_3) AppleWebKit/537.36 (KHTML, like Gecko) Chrome/35.0.1916.47 Safari/537.36'})\n",
    "\n",
    "f = urllib.request.urlopen(req)\n",
    "f.status, f.msg\n",
    "(200, 'OK')"
   ]
  },
  {
   "cell_type": "code",
   "execution_count": null,
   "metadata": {},
   "outputs": [],
   "source": []
  }
 ],
 "metadata": {
  "kernelspec": {
   "display_name": "Python 3",
   "language": "python",
   "name": "python3"
  },
  "language_info": {
   "codemirror_mode": {
    "name": "ipython",
    "version": 3
   },
   "file_extension": ".py",
   "mimetype": "text/x-python",
   "name": "python",
   "nbconvert_exporter": "python",
   "pygments_lexer": "ipython3",
   "version": "3.7.4-final"
  }
 },
 "nbformat": 4,
 "nbformat_minor": 4
}